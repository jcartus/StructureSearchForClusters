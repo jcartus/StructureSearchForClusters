{
 "cells": [
  {
   "cell_type": "code",
   "execution_count": 1,
   "metadata": {},
   "outputs": [],
   "source": [
    "import random\n",
    "\n",
    "from deap import base\n",
    "from deap import creator\n",
    "from deap import tools"
   ]
  },
  {
   "cell_type": "code",
   "execution_count": 2,
   "metadata": {},
   "outputs": [],
   "source": [
    "creator.create(\"FitnessMax\", base.Fitness, weights=(1.0,))\n",
    "creator.create(\"Individual\", list, fitness=creator.FitnessMax)"
   ]
  },
  {
   "cell_type": "code",
   "execution_count": 3,
   "metadata": {},
   "outputs": [],
   "source": [
    "toolbox = base.Toolbox()\n",
    "\n",
    "toolbox.register(\"init_gene\", random.randint, 0, 1)\n",
    "toolbox.register(\"init_individual\", tools.initRepeat, \n",
    "                 creator.Individual, toolbox.init_gene, 100)\n",
    "\n",
    "toolbox.register(\"init_population\", tools.initRepeat, \n",
    "                 list, toolbox.init_individual)"
   ]
  },
  {
   "cell_type": "code",
   "execution_count": 4,
   "metadata": {},
   "outputs": [],
   "source": [
    "def evaluateFitness(individual):\n",
    "    # this shit has to be a tuple!!\n",
    "    return sum(individual),\n",
    "toolbox.register(\"evaluate\", evaluateFitness)"
   ]
  },
  {
   "cell_type": "code",
   "execution_count": 5,
   "metadata": {},
   "outputs": [],
   "source": [
    "toolbox.register(\"mate\", tools.cxTwoPoint)\n",
    "toolbox.register(\"mutate\", tools.mutFlipBit, indpb=0.05) # flip gene with 0.05 % probability\n",
    "toolbox.register(\"select\", tools.selTournament, tournsize=3)"
   ]
  },
  {
   "cell_type": "markdown",
   "metadata": {},
   "source": [
    "# Do the Optimazation "
   ]
  },
  {
   "cell_type": "code",
   "execution_count": 6,
   "metadata": {},
   "outputs": [],
   "source": [
    "PROBABILITY_CROSSING = 0.5\n",
    "PROBABILITY_MUTATION = 0.2"
   ]
  },
  {
   "cell_type": "code",
   "execution_count": 7,
   "metadata": {},
   "outputs": [],
   "source": [
    "population = toolbox.init_population(n=300)"
   ]
  },
  {
   "cell_type": "code",
   "execution_count": 8,
   "metadata": {},
   "outputs": [],
   "source": [
    "fitnesses = list(map(toolbox.evaluate, population))\n",
    "\n",
    "for ind, fit in zip(population, fitnesses):\n",
    "    ind.fitness.values = fit"
   ]
  },
  {
   "cell_type": "code",
   "execution_count": 13,
   "metadata": {},
   "outputs": [],
   "source": [
    "g = 0\n",
    "\n",
    "# create a list of fitness values\n",
    "fitness_values = [ind.fitness.values[0] for ind in population]\n",
    "\n",
    "# Begin the evolution\n",
    "while max(fitness_values) < 100 and g < 1000:\n",
    "    # A new generation\n",
    "    g = g + 1\n",
    "\n",
    "    # Select next generation\n",
    "    offspring = toolbox.select(population, len(population))\n",
    "    offspring = list(map(toolbox.clone, offspring))\n",
    "\n",
    "    # do cross over\n",
    "    for child1, child2 in zip(offspring[::2], offspring[1::2]):\n",
    "\n",
    "        if random.random() < PROBABILITY_CROSSING:\n",
    "            toolbox.mate(child1, child2)\n",
    "\n",
    "            del child1.fitness.values\n",
    "            del child2.fitness.values\n",
    "            \n",
    "    # do mutation\n",
    "    for mutant in offspring:\n",
    "        if random.random() < PROBABILITY_MUTATION:\n",
    "            toolbox.mutate(mutant)\n",
    "            del mutant.fitness.values\n",
    "    \n",
    "    # recalculate fitness values of mates and mutants\n",
    "    invalid_individuals = [ind for ind in offspring if not ind.fitness.valid]\n",
    "    fitnesses = map(toolbox.evaluate, invalid_individuals)\n",
    "    for ind, fit in zip(invalid_individuals, fitnesses):\n",
    "        ind.fitness.values = fit\n",
    "    \n",
    "    population[:] = offspring\n",
    "    \n",
    "    # update list of fitness value\n",
    "    fitness_values = [ind.fitness.values[0] for ind in population]\n",
    "    "
   ]
  },
  {
   "cell_type": "code",
   "execution_count": 12,
   "metadata": {},
   "outputs": [],
   "source": [
    "best_ind = tools.selBest(population, 1)[0]"
   ]
  },
  {
   "cell_type": "code",
   "execution_count": null,
   "metadata": {},
   "outputs": [],
   "source": []
  }
 ],
 "metadata": {
  "kernelspec": {
   "display_name": "Python 3",
   "language": "python",
   "name": "python3"
  },
  "language_info": {
   "codemirror_mode": {
    "name": "ipython",
    "version": 3
   },
   "file_extension": ".py",
   "mimetype": "text/x-python",
   "name": "python",
   "nbconvert_exporter": "python",
   "pygments_lexer": "ipython3",
   "version": "3.6.4"
  }
 },
 "nbformat": 4,
 "nbformat_minor": 2
}
