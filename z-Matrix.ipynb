{
 "cells": [
  {
   "cell_type": "code",
   "execution_count": 3,
   "metadata": {},
   "outputs": [],
   "source": [
    "import numpy as np\n",
    "from pyscf import gto\n",
    "\n",
    "\n"
   ]
  },
  {
   "cell_type": "code",
   "execution_count": 2,
   "metadata": {},
   "outputs": [],
   "source": [
    "molecule_str = \\\n",
    "\"\"\"\n",
    "C\n",
    "H   1 1.089000\n",
    "H   1 1.089000  2  109.4710\n",
    "H   1 1.089000  2  109.4710  3  120.0000\n",
    "H   1 1.089000  2  109.4710  3 -120.0000\n",
    "\"\"\""
   ]
  },
  {
   "cell_type": "code",
   "execution_count": 9,
   "metadata": {},
   "outputs": [
    {
     "data": {
      "text/plain": [
       "array([[ 0.        ,  0.        ,  0.        ],\n",
       "       [ 2.05791175,  0.        ,  0.        ],\n",
       "       [-0.68596311,  0.        ,  1.94022045],\n",
       "       [-0.68596311,  1.6802802 , -0.97011022],\n",
       "       [-0.68596311, -1.6802802 , -0.97011022]])"
      ]
     },
     "execution_count": 9,
     "metadata": {},
     "output_type": "execute_result"
    }
   ],
   "source": [
    "mol = gto.Mole()\n",
    "\n",
    "mol.atom = molecule_str\n",
    "\n",
    "mol.build()\n",
    "mol.atom_coords()"
   ]
  },
  {
   "cell_type": "code",
   "execution_count": 53,
   "metadata": {},
   "outputs": [
    {
     "data": {
      "text/plain": [
       "([('H', ['1', '2', '3']), ('H', ['1', '2', '3'])],\n",
       " [1.089, 1.089, 109.471, 1.089, 109.471, 120.0, 1.089, 109.471, -120.0])"
      ]
     },
     "execution_count": 53,
     "metadata": {},
     "output_type": "execute_result"
    }
   ],
   "source": [
    "class Genome(object):\n",
    "    def __init__(self, first=None, second=None, third=None, species=[], genome=[]):\n",
    "        self.first_atom = first\n",
    "        self.second_atom = second\n",
    "        self.third_atom = third\n",
    "        \n",
    "        self.species = species\n",
    "        self.genome = genome\n",
    "\n",
    "        \n",
    "def calculate_genome(matrix_str):\n",
    "    genome = Genome()\n",
    "    \n",
    "    lines =[line for line in matrix_str.split(\"\\n\") if line]\n",
    "\n",
    "    if len(lines) < 4:\n",
    "        raise ValueError(\"Molecule must have 4 atoms at least!\")\n",
    "    \n",
    "    # first line\n",
    "    genome.first_atom = lines[0].split()[0]\n",
    "    \n",
    "    # second line\n",
    "    splits = lines[1].split()\n",
    "    genome.second_atom = splits[0]\n",
    "    genome.genome.append(float(splits[2]))\n",
    "    \n",
    "    # third line\n",
    "    splits = lines[2].split()\n",
    "    genome.third_atom = splits[0]\n",
    "    genome.genome.append(float(splits[2]))\n",
    "    genome.genome.append(float(splits[4]))\n",
    "\n",
    "\n",
    "    for line in lines[3:]:\n",
    "        split = line.split()\n",
    "\n",
    "        genome.species.append((split[0], [split[1], split[3], split[5]]))\n",
    "        genome.genome += [float(split[2]), float(split[4]), float(split[6])]\n",
    "\n",
    "    return genome\n",
    "\n",
    "GENOME = calculate_genome(molecule_str)\n",
    "genome.species, genome.genome"
   ]
  },
  {
   "cell_type": "code",
   "execution_count": 54,
   "metadata": {},
   "outputs": [
    {
     "name": "stdout",
     "output_type": "stream",
     "text": [
      "[(('H', ['1', '2', '3']), 1.089), (('H', ['1', '2', '3']), 109.471)]\n"
     ]
    },
    {
     "data": {
      "text/plain": [
       "'C\\nH 1 1.089\\nH 1 1.089 2 109.471\\nH 1 1.089 2 109.471 3 120.0\\nH 1 1.089 2 109.471 3 -120.0\\n'"
      ]
     },
     "execution_count": 54,
     "metadata": {},
     "output_type": "execute_result"
    }
   ],
   "source": [
    "\n",
    "# TODO add to genome class\n",
    "def create_z_matrix(genome):\n",
    "    matrix_str = genome.first_atom + \"\\n\"\n",
    "    matrix_str += genome.second_atom + \" 1 \" + str(genome.genome[0]) + \"\\n\"\n",
    "    matrix_str += genome.third_atom + \" 1 \" + str(genome.genome[1]) + \" 2 \" + str(genome.genome[2]) + \"\\n\"\n",
    "    \n",
    "    i = 3\n",
    "    for (species, reference) in genome.species:\n",
    "        \n",
    "        matrix_str += \" \".join(\n",
    "            [\n",
    "                species, \n",
    "                reference[0], \n",
    "                str(genome.genome[i]), \n",
    "                reference[1], \n",
    "                str(genome.genome[i + 1]), \n",
    "                reference[2], \n",
    "                str(genome.genome[i + 2])\n",
    "            ]\n",
    "        ) + \"\\n\"\n",
    "        \n",
    "        i += 3\n",
    "        \n",
    "    return matrix_str\n",
    "\n",
    "def build_molecule_from_genome(genome):\n",
    "    \n",
    "    mol = gto.Mole()\n",
    "    mol.atm = create_z_matrix(Genome(\n",
    "        GENOME.first_atom,\n",
    "        GENOME.second_atom,\n",
    "        GENOME.third_atom,\n",
    "        GENOME.species,\n",
    "        genome\n",
    "    ))\n",
    "    \n",
    "    mol.build()\n",
    "    \n",
    "    return mol\n",
    "    \n",
    "    \n",
    "\n",
    "create_molecule(genome)"
   ]
  },
  {
   "cell_type": "code",
   "execution_count": 48,
   "metadata": {},
   "outputs": [
    {
     "data": {
      "text/plain": [
       "['',\n",
       " 'C',\n",
       " 'H   1 1.089000',\n",
       " 'H   1 1.089000  2  109.4710',\n",
       " 'H   1 1.089000  2  109.4710  3  120.0000',\n",
       " 'H   1 1.089000  2  109.4710  3 -120.0000',\n",
       " '']"
      ]
     },
     "execution_count": 48,
     "metadata": {},
     "output_type": "execute_result"
    }
   ],
   "source": [
    "molecule_str.split(\"\\n\")"
   ]
  },
  {
   "cell_type": "markdown",
   "metadata": {},
   "source": [
    "# Apply to the Library "
   ]
  },
  {
   "cell_type": "code",
   "execution_count": 46,
   "metadata": {},
   "outputs": [],
   "source": [
    "from deap import base\n",
    "from deap import creator\n",
    "from deap import tools\n",
    "\n",
    "import random"
   ]
  },
  {
   "cell_type": "code",
   "execution_count": 45,
   "metadata": {},
   "outputs": [],
   "source": [
    "creator.create(\"FitnessMin\", base.Fitness, weights=(-1.0,))\n",
    "creator.create(\"Individual\", list, fitness=creator.FitnessMin)"
   ]
  },
  {
   "cell_type": "markdown",
   "metadata": {},
   "source": [
    "## Initializing "
   ]
  },
  {
   "cell_type": "code",
   "execution_count": 49,
   "metadata": {},
   "outputs": [],
   "source": [
    "toolbox = base.Toolbox()\n",
    "\n",
    "\n",
    "\n",
    "def init_individual():\n",
    "    \n",
    "    return [x + random.gauss(0, 1) for x in genome.genome ]\n",
    "\n",
    "\n",
    "toolbox.register(\"init_individual\", tools.initIterate, \n",
    "                 creator.Individual, init_individual)\n",
    "\n",
    "toolbox.register(\"init_population\", tools.initRepeat, \n",
    "                 list, toolbox.init_individual)"
   ]
  },
  {
   "cell_type": "code",
   "execution_count": 52,
   "metadata": {},
   "outputs": [
    {
     "data": {
      "text/plain": [
       "[[0.9933648175652079,\n",
       "  0.32808625939828917,\n",
       "  107.98311187331588,\n",
       "  1.2821075987633797,\n",
       "  108.77333068325345,\n",
       "  119.05270253210277,\n",
       "  0.8574873395772349,\n",
       "  109.94196130759418,\n",
       "  -120.54011878355298],\n",
       " [1.866183576846456,\n",
       "  0.2784914528227326,\n",
       "  109.4374245038215,\n",
       "  2.6961161787917955,\n",
       "  109.89249110156872,\n",
       "  120.14652240726917,\n",
       "  -0.3456593346240906,\n",
       "  109.56885283678673,\n",
       "  -119.24213460887758],\n",
       " [2.3290603945878274,\n",
       "  0.30701196381785545,\n",
       "  108.27601961810777,\n",
       "  0.4432478591013812,\n",
       "  110.45251012205816,\n",
       "  119.30368691840854,\n",
       "  0.8269974088941737,\n",
       "  109.87513625155908,\n",
       "  -119.29433843300654]]"
      ]
     },
     "execution_count": 52,
     "metadata": {},
     "output_type": "execute_result"
    }
   ],
   "source": [
    "population = toolbox.init_population(n=3)\n",
    "population"
   ]
  },
  {
   "cell_type": "markdown",
   "metadata": {},
   "source": [
    "## Energy "
   ]
  },
  {
   "cell_type": "code",
   "execution_count": 55,
   "metadata": {},
   "outputs": [],
   "source": [
    "def evaluateFitness(individual):\n",
    "    \n",
    "    mol = build_molecule_from_genome(individual)\n",
    "    \n",
    "    mf = RHF(mol)\n",
    "    mf.verbose = 0\n",
    "    E = mf.scf()\n",
    "    \n",
    "    # this shit has to be a tuple!!\n",
    "    return E,\n",
    "\n",
    "toolbox.register(\"evaluate\", evaluateFitness)"
   ]
  },
  {
   "cell_type": "code",
   "execution_count": null,
   "metadata": {},
   "outputs": [],
   "source": []
  }
 ],
 "metadata": {
  "kernelspec": {
   "display_name": "Python 3",
   "language": "python",
   "name": "python3"
  },
  "language_info": {
   "codemirror_mode": {
    "name": "ipython",
    "version": 3
   },
   "file_extension": ".py",
   "mimetype": "text/x-python",
   "name": "python",
   "nbconvert_exporter": "python",
   "pygments_lexer": "ipython3",
   "version": "3.6.4"
  }
 },
 "nbformat": 4,
 "nbformat_minor": 2
}
