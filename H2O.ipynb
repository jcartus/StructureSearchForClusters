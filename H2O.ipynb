{
 "cells": [
  {
   "cell_type": "code",
   "execution_count": 1,
   "metadata": {},
   "outputs": [],
   "source": [
    "import random\n",
    "import numpy as np\n",
    "\n",
    "from deap import base\n",
    "from deap import creator\n",
    "from deap import tools\n",
    "\n",
    "import matplotlib.pyplot as plt\n",
    "plt.style.use(\"seaborn\")\n",
    "\n",
    "%matplotlib inline"
   ]
  },
  {
   "cell_type": "code",
   "execution_count": 2,
   "metadata": {},
   "outputs": [],
   "source": [
    "creator.create(\"FitnessMin\", base.Fitness, weights=(-1.0,))\n",
    "creator.create(\"Individual\", list, fitness=creator.FitnessMin)"
   ]
  },
  {
   "cell_type": "markdown",
   "metadata": {},
   "source": [
    "# Setup the System\n",
    "- genome is now 3 params: distance OH1, Distance Oh2, angle H1OH2.\n",
    "- Molecule will always be in xy plane\n"
   ]
  },
  {
   "cell_type": "code",
   "execution_count": 3,
   "metadata": {},
   "outputs": [],
   "source": [
    "toolbox = base.Toolbox()\n",
    "\n",
    "def init_gene():\n",
    "    return random.gauss(1, 1)\n",
    "\n",
    "toolbox.register(\"init_gene\", init_gene)\n",
    "toolbox.register(\"init_individual\", tools.initRepeat, \n",
    "                 creator.Individual, toolbox.init_gene, 3)\n",
    "\n",
    "toolbox.register(\"init_population\", tools.initRepeat, \n",
    "                 list, toolbox.init_individual)"
   ]
  },
  {
   "cell_type": "code",
   "execution_count": 4,
   "metadata": {},
   "outputs": [
    {
     "name": "stderr",
     "output_type": "stream",
     "text": [
      "/home/jo/anaconda3/lib/python3.6/site-packages/h5py/__init__.py:36: FutureWarning: Conversion of the second argument of issubdtype from `float` to `np.floating` is deprecated. In future, it will be treated as `np.float64 == np.dtype(float).type`.\n",
      "  from ._conv import register_converters as _register_converters\n"
     ]
    }
   ],
   "source": [
    "from pyscf.gto import Mole\n",
    "from pyscf.scf import RHF\n",
    "\n",
    "def build_molecule_from_genome(genome):\n",
    "    \n",
    "    atoms = [\n",
    "        (\"O\", 0, 0, 0),\n",
    "        (\"H\", genome[0], 0, 0),\n",
    "        (\"H\", genome[1] * np.cos(genome[2]), genome[1] * np.sin(genome[2]), 0)\n",
    "    ]\n",
    "    \n",
    "    mol = Mole()\n",
    "    mol.atom = atoms\n",
    "    #mol.basis = \"6-31++g**\"\n",
    "    mol.basis = \"sto-3g\"\n",
    "    mol.build()\n",
    "    return mol\n",
    "    \n",
    "def evaluateFitness(individual):\n",
    "    \n",
    "    mol = build_molecule_from_genome(individual)\n",
    "    \n",
    "    mf = RHF(mol)\n",
    "    mf.verbose = 0\n",
    "    E = mf.scf()\n",
    "    \n",
    "    # this shit has to be a tuple!!\n",
    "    return E,\n",
    "\n",
    "toolbox.register(\"evaluate\", evaluateFitness)"
   ]
  },
  {
   "cell_type": "code",
   "execution_count": 5,
   "metadata": {},
   "outputs": [],
   "source": [
    "toolbox.register(\"mate\", tools.cxTwoPoint)\n",
    "toolbox.register(\"mutate\", tools.mutGaussian, mu=0, sigma=1, indpb=0.05) # flip gene with 0.05 % probability\n",
    "toolbox.register(\"select\", tools.selTournament, tournsize=3)"
   ]
  },
  {
   "cell_type": "markdown",
   "metadata": {},
   "source": [
    "# Do the Optimazation "
   ]
  },
  {
   "cell_type": "code",
   "execution_count": 6,
   "metadata": {},
   "outputs": [],
   "source": [
    "PROBABILITY_CROSSING = 0.5\n",
    "PROBABILITY_MUTATION = 0.2\n",
    "\n",
    "MAX_ITERATIONS = 100\n",
    "\n",
    "CONVERGENCE_THRESHOLD = 1e-20\n",
    "\n",
    "E_old = 1e10"
   ]
  },
  {
   "cell_type": "code",
   "execution_count": 12,
   "metadata": {},
   "outputs": [],
   "source": [
    "SIZE_POPULATION = 20\n",
    "\n",
    "population = toolbox.init_population(n=SIZE_POPULATION)"
   ]
  },
  {
   "cell_type": "code",
   "execution_count": 13,
   "metadata": {},
   "outputs": [
    {
     "data": {
      "text/plain": [
       "[[0.7572941488891316, -0.7599535077456965, 2.0285371775938827],\n",
       " [0.5564458597451798, 0.5346089999202958, 2.176703062353366],\n",
       " [2.039354869028638, 0.8952890530012845, -0.10516452920092001],\n",
       " [-0.28106557095373264, 1.0762027460521044, 1.5375374154155725],\n",
       " [1.1043740471634347, 0.760897841266471, 0.89921726032508],\n",
       " [-1.2339768068870431, 2.01931082623239, 0.13555290922882846],\n",
       " [1.3948771794064896, -0.41024312648824157, 0.408713358754234],\n",
       " [0.893673971505689, 0.699020451117589, 2.379035111755665],\n",
       " [1.4635154233522598, -0.5117161098369907, 1.6020062070616055],\n",
       " [-0.11709000747312404, 1.163386105099015, 1.9228149192696729],\n",
       " [1.9652294778949724, 1.4730335397476593, 1.8627627213381295],\n",
       " [-0.3151979962950604, 1.5389596270440964, 2.2265682198683807],\n",
       " [-0.14827400998460782, 2.217186567659356, 0.8149172109395884],\n",
       " [2.4638443562264185, 2.516593355680627, 1.1294954037603735],\n",
       " [0.6109337966239587, 1.2690305490662899, 1.1548357256054282],\n",
       " [0.5538683704284447, 0.9374951499333799, 1.8075471251231763],\n",
       " [0.7364803822420707, 1.623365448684749, 1.5578775914000729],\n",
       " [-0.8315574965343451, 0.929878349382084, 1.9908437454294519],\n",
       " [0.7489581245936257, 0.3976654235213648, 2.5380150283239393],\n",
       " [0.4011886292184559, 1.08907967946307, 1.739719907510441]]"
      ]
     },
     "execution_count": 13,
     "metadata": {},
     "output_type": "execute_result"
    }
   ],
   "source": [
    "population"
   ]
  },
  {
   "cell_type": "code",
   "execution_count": 8,
   "metadata": {},
   "outputs": [],
   "source": [
    "fitnesses = list(map(toolbox.evaluate, population))\n",
    "\n",
    "for ind, fit in zip(population, fitnesses):\n",
    "    ind.fitness.values = fit"
   ]
  },
  {
   "cell_type": "code",
   "execution_count": 9,
   "metadata": {},
   "outputs": [
    {
     "name": "stdout",
     "output_type": "stream",
     "text": [
      "Pre:\n",
      "[1.2465210690315611, 0.9230124195722169, 1.3380394711474881] (-74.88988729943918,)\n"
     ]
    }
   ],
   "source": [
    "best_ind = tools.selBest(population, 1)[0]\n",
    "print(\"Pre:\")\n",
    "print(best_ind, best_ind.fitness.values)"
   ]
  },
  {
   "cell_type": "code",
   "execution_count": 10,
   "metadata": {},
   "outputs": [
    {
     "name": "stdout",
     "output_type": "stream",
     "text": [
      "Generation: 1\n",
      "-73.96186633035069 10000000073.961866\n",
      "Generation: 2\n",
      "-74.7113546362583 0.7494883059076187\n",
      "Generation: 3\n",
      "-74.78149783572361 0.07014319946530634\n",
      "Generation: 4\n",
      "-74.85550375806051 0.07400592233689451\n",
      "Generation: 5\n",
      "-74.9042557634867 0.048752005426194955\n",
      "Generation: 6\n",
      "-74.92222860123107 0.017972837744366643\n",
      "Generation: 7\n",
      "-74.94857922609394 0.02635062486287154\n",
      "Generation: 8\n",
      "-74.32482400882732 0.6237552172666199\n",
      "Generation: 9\n",
      "-74.94944891727486 0.6246249084475437\n",
      "Generation: 10\n",
      "-74.94139873801625 0.008050179258617618\n",
      "Generation: 11\n",
      "-74.94301789921875 0.001619161202498276\n",
      "Generation: 12\n",
      "-74.79527925757316 0.1477386416455886\n",
      "Generation: 13\n",
      "-74.95227558412066 0.15699632654749962\n",
      "Generation: 14\n",
      "-74.83702111216262 0.11525447195803906\n",
      "Generation: 15\n",
      "-74.95968823499123 0.12266712282861647\n",
      "Generation: 16\n",
      "-74.91601233040052 0.0436759045907138\n",
      "Generation: 17\n",
      "-74.9582718303819 0.0422594999813839\n",
      "Generation: 18\n",
      "-74.94285885126794 0.015412979113961\n",
      "Generation: 19\n",
      "-74.94730730163622 0.004448450368272461\n",
      "Generation: 20\n",
      "-74.92228711182102 0.02502018981519427\n",
      "Generation: 21\n",
      "-74.96166196512449 0.039374853303471014\n",
      "Generation: 22\n",
      "-74.96242501936696 0.0007630542424692521\n",
      "Generation: 23\n",
      "-74.45194335111843 0.5104816682485307\n",
      "Generation: 24\n",
      "-74.94197819634167 0.49003484522323504\n",
      "Generation: 25\n",
      "-74.95962188823843 0.01764369189676529\n",
      "Generation: 26\n",
      "-74.88891295660949 0.07070893162894265\n",
      "Generation: 27\n",
      "-74.96141103815822 0.07249808154872994\n",
      "Generation: 28\n",
      "-74.95988849947283 0.0015225386853927603\n",
      "Generation: 29\n",
      "-74.82561378982871 0.13427470964411725\n",
      "Generation: 30\n",
      "-74.6962424787624 0.12937131106630773\n",
      "Generation: 31\n",
      "-74.93340409313723 0.23716161437482697\n",
      "Generation: 32\n",
      "-74.96446769431634 0.03106360117911322\n",
      "Generation: 33\n",
      "-74.91212241504502 0.05234527927132149\n",
      "Generation: 34\n",
      "-74.95521967023626 0.04309725519124186\n",
      "Generation: 35\n",
      "-74.94486423218657 0.010355438049685972\n",
      "Generation: 36\n",
      "-74.95769516817572 0.0128309359891432\n",
      "Generation: 37\n",
      "-74.95970294746415 0.002007779288433653\n",
      "Generation: 38\n",
      "-74.96421355218018 0.0045106047160317075\n",
      "Generation: 39\n",
      "-74.83793440920914 0.12627914297104326\n",
      "Generation: 40\n",
      "-74.94452556557289 0.1065911563637485\n",
      "Generation: 41\n",
      "-74.95767712324022 0.013151557667328007\n",
      "Generation: 42\n",
      "-74.46090413990781 0.4967729833324057\n",
      "Generation: 43\n",
      "-73.16579517947712 1.2951089604306958\n",
      "Generation: 44\n",
      "-74.84150249296869 1.6757073134915714\n",
      "Generation: 45\n",
      "-74.95613245071054 0.11462995774185458\n",
      "Generation: 46\n",
      "-74.96324994766029 0.0071174969497462826\n",
      "Generation: 47\n",
      "-74.91657574143936 0.04667420622092777\n",
      "Generation: 48\n",
      "-74.76478530616885 0.15179043527051306\n",
      "Generation: 49\n",
      "-74.86275541818345 0.09797011201460748\n",
      "Generation: 50\n",
      "-74.9606362843211 0.09788086613764335\n",
      "Generation: 51\n",
      "-74.9323767424998 0.028259541821299194\n"
     ]
    },
    {
     "ename": "KeyboardInterrupt",
     "evalue": "",
     "output_type": "error",
     "traceback": [
      "\u001b[0;31m---------------------------------------------------------------------------\u001b[0m",
      "\u001b[0;31mKeyboardInterrupt\u001b[0m                         Traceback (most recent call last)",
      "\u001b[0;32m<ipython-input-10-cde47ad8bc31>\u001b[0m in \u001b[0;36m<module>\u001b[0;34m()\u001b[0m\n\u001b[1;32m     27\u001b[0m     \u001b[0minvalid_individuals\u001b[0m \u001b[0;34m=\u001b[0m \u001b[0;34m[\u001b[0m\u001b[0mind\u001b[0m \u001b[0;32mfor\u001b[0m \u001b[0mind\u001b[0m \u001b[0;32min\u001b[0m \u001b[0moffspring\u001b[0m \u001b[0;32mif\u001b[0m \u001b[0;32mnot\u001b[0m \u001b[0mind\u001b[0m\u001b[0;34m.\u001b[0m\u001b[0mfitness\u001b[0m\u001b[0;34m.\u001b[0m\u001b[0mvalid\u001b[0m\u001b[0;34m]\u001b[0m\u001b[0;34m\u001b[0m\u001b[0m\n\u001b[1;32m     28\u001b[0m     \u001b[0mfitnesses\u001b[0m \u001b[0;34m=\u001b[0m \u001b[0mmap\u001b[0m\u001b[0;34m(\u001b[0m\u001b[0mtoolbox\u001b[0m\u001b[0;34m.\u001b[0m\u001b[0mevaluate\u001b[0m\u001b[0;34m,\u001b[0m \u001b[0minvalid_individuals\u001b[0m\u001b[0;34m)\u001b[0m\u001b[0;34m\u001b[0m\u001b[0m\n\u001b[0;32m---> 29\u001b[0;31m     \u001b[0;32mfor\u001b[0m \u001b[0mind\u001b[0m\u001b[0;34m,\u001b[0m \u001b[0mfit\u001b[0m \u001b[0;32min\u001b[0m \u001b[0mzip\u001b[0m\u001b[0;34m(\u001b[0m\u001b[0minvalid_individuals\u001b[0m\u001b[0;34m,\u001b[0m \u001b[0mfitnesses\u001b[0m\u001b[0;34m)\u001b[0m\u001b[0;34m:\u001b[0m\u001b[0;34m\u001b[0m\u001b[0m\n\u001b[0m\u001b[1;32m     30\u001b[0m         \u001b[0mind\u001b[0m\u001b[0;34m.\u001b[0m\u001b[0mfitness\u001b[0m\u001b[0;34m.\u001b[0m\u001b[0mvalues\u001b[0m \u001b[0;34m=\u001b[0m \u001b[0mfit\u001b[0m\u001b[0;34m\u001b[0m\u001b[0m\n\u001b[1;32m     31\u001b[0m \u001b[0;34m\u001b[0m\u001b[0m\n",
      "\u001b[0;32m<ipython-input-4-0eb764b3ceaf>\u001b[0m in \u001b[0;36mevaluateFitness\u001b[0;34m(individual)\u001b[0m\n\u001b[1;32m     23\u001b[0m     \u001b[0mmf\u001b[0m \u001b[0;34m=\u001b[0m \u001b[0mRHF\u001b[0m\u001b[0;34m(\u001b[0m\u001b[0mmol\u001b[0m\u001b[0;34m)\u001b[0m\u001b[0;34m\u001b[0m\u001b[0m\n\u001b[1;32m     24\u001b[0m     \u001b[0mmf\u001b[0m\u001b[0;34m.\u001b[0m\u001b[0mverbose\u001b[0m \u001b[0;34m=\u001b[0m \u001b[0;36m0\u001b[0m\u001b[0;34m\u001b[0m\u001b[0m\n\u001b[0;32m---> 25\u001b[0;31m     \u001b[0mE\u001b[0m \u001b[0;34m=\u001b[0m \u001b[0mmf\u001b[0m\u001b[0;34m.\u001b[0m\u001b[0mscf\u001b[0m\u001b[0;34m(\u001b[0m\u001b[0;34m)\u001b[0m\u001b[0;34m\u001b[0m\u001b[0m\n\u001b[0m\u001b[1;32m     26\u001b[0m \u001b[0;34m\u001b[0m\u001b[0m\n\u001b[1;32m     27\u001b[0m     \u001b[0;31m# this shit has to be a tuple!!\u001b[0m\u001b[0;34m\u001b[0m\u001b[0;34m\u001b[0m\u001b[0m\n",
      "\u001b[0;32m~/Repos/pyscf/pyscf/scf/hf.py\u001b[0m in \u001b[0;36mscf\u001b[0;34m(self, dm0)\u001b[0m\n\u001b[1;32m   1367\u001b[0m                 kernel(self, self.conv_tol, self.conv_tol_grad,\n\u001b[1;32m   1368\u001b[0m                        \u001b[0mdm0\u001b[0m\u001b[0;34m=\u001b[0m\u001b[0mdm0\u001b[0m\u001b[0;34m,\u001b[0m \u001b[0mcallback\u001b[0m\u001b[0;34m=\u001b[0m\u001b[0mself\u001b[0m\u001b[0;34m.\u001b[0m\u001b[0mcallback\u001b[0m\u001b[0;34m,\u001b[0m\u001b[0;34m\u001b[0m\u001b[0m\n\u001b[0;32m-> 1369\u001b[0;31m                        conv_check=self.conv_check, return_iterations=True)\n\u001b[0m\u001b[1;32m   1370\u001b[0m \u001b[0;34m\u001b[0m\u001b[0m\n\u001b[1;32m   1371\u001b[0m         \u001b[0mlogger\u001b[0m\u001b[0;34m.\u001b[0m\u001b[0mtimer\u001b[0m\u001b[0;34m(\u001b[0m\u001b[0mself\u001b[0m\u001b[0;34m,\u001b[0m \u001b[0;34m'SCF'\u001b[0m\u001b[0;34m,\u001b[0m \u001b[0;34m*\u001b[0m\u001b[0mcput0\u001b[0m\u001b[0;34m)\u001b[0m\u001b[0;34m\u001b[0m\u001b[0m\n",
      "\u001b[0;32m~/Repos/pyscf/pyscf/scf/hf.py\u001b[0m in \u001b[0;36mkernel\u001b[0;34m(mf, conv_tol, conv_tol_grad, dump_chk, dm0, callback, conv_check, return_iterations, **kwargs)\u001b[0m\n\u001b[1;32m    145\u001b[0m         \u001b[0;31m# attach mo_coeff and mo_occ to dm to improve DFT get_veff efficiency\u001b[0m\u001b[0;34m\u001b[0m\u001b[0;34m\u001b[0m\u001b[0m\n\u001b[1;32m    146\u001b[0m         \u001b[0mdm\u001b[0m \u001b[0;34m=\u001b[0m \u001b[0mlib\u001b[0m\u001b[0;34m.\u001b[0m\u001b[0mtag_array\u001b[0m\u001b[0;34m(\u001b[0m\u001b[0mdm\u001b[0m\u001b[0;34m,\u001b[0m \u001b[0mmo_coeff\u001b[0m\u001b[0;34m=\u001b[0m\u001b[0mmo_coeff\u001b[0m\u001b[0;34m,\u001b[0m \u001b[0mmo_occ\u001b[0m\u001b[0;34m=\u001b[0m\u001b[0mmo_occ\u001b[0m\u001b[0;34m)\u001b[0m\u001b[0;34m\u001b[0m\u001b[0m\n\u001b[0;32m--> 147\u001b[0;31m         \u001b[0mvhf\u001b[0m \u001b[0;34m=\u001b[0m \u001b[0mmf\u001b[0m\u001b[0;34m.\u001b[0m\u001b[0mget_veff\u001b[0m\u001b[0;34m(\u001b[0m\u001b[0mmol\u001b[0m\u001b[0;34m,\u001b[0m \u001b[0mdm\u001b[0m\u001b[0;34m,\u001b[0m \u001b[0mdm_last\u001b[0m\u001b[0;34m,\u001b[0m \u001b[0mvhf\u001b[0m\u001b[0;34m)\u001b[0m\u001b[0;34m\u001b[0m\u001b[0m\n\u001b[0m\u001b[1;32m    148\u001b[0m         \u001b[0me_tot\u001b[0m \u001b[0;34m=\u001b[0m \u001b[0mmf\u001b[0m\u001b[0;34m.\u001b[0m\u001b[0menergy_tot\u001b[0m\u001b[0;34m(\u001b[0m\u001b[0mdm\u001b[0m\u001b[0;34m,\u001b[0m \u001b[0mh1e\u001b[0m\u001b[0;34m,\u001b[0m \u001b[0mvhf\u001b[0m\u001b[0;34m)\u001b[0m\u001b[0;34m\u001b[0m\u001b[0m\n\u001b[1;32m    149\u001b[0m \u001b[0;34m\u001b[0m\u001b[0m\n",
      "\u001b[0;32m~/Repos/pyscf/pyscf/scf/hf.py\u001b[0m in \u001b[0;36mget_veff\u001b[0;34m(self, mol, dm, dm_last, vhf_last, hermi)\u001b[0m\n\u001b[1;32m   1427\u001b[0m         \u001b[0;32mif\u001b[0m \u001b[0mself\u001b[0m\u001b[0;34m.\u001b[0m\u001b[0mdirect_scf\u001b[0m\u001b[0;34m:\u001b[0m\u001b[0;34m\u001b[0m\u001b[0m\n\u001b[1;32m   1428\u001b[0m             \u001b[0mddm\u001b[0m \u001b[0;34m=\u001b[0m \u001b[0mnumpy\u001b[0m\u001b[0;34m.\u001b[0m\u001b[0masarray\u001b[0m\u001b[0;34m(\u001b[0m\u001b[0mdm\u001b[0m\u001b[0;34m)\u001b[0m \u001b[0;34m-\u001b[0m \u001b[0mnumpy\u001b[0m\u001b[0;34m.\u001b[0m\u001b[0masarray\u001b[0m\u001b[0;34m(\u001b[0m\u001b[0mdm_last\u001b[0m\u001b[0;34m)\u001b[0m\u001b[0;34m\u001b[0m\u001b[0m\n\u001b[0;32m-> 1429\u001b[0;31m             \u001b[0mvj\u001b[0m\u001b[0;34m,\u001b[0m \u001b[0mvk\u001b[0m \u001b[0;34m=\u001b[0m \u001b[0mself\u001b[0m\u001b[0;34m.\u001b[0m\u001b[0mget_jk\u001b[0m\u001b[0;34m(\u001b[0m\u001b[0mmol\u001b[0m\u001b[0;34m,\u001b[0m \u001b[0mddm\u001b[0m\u001b[0;34m,\u001b[0m \u001b[0mhermi\u001b[0m\u001b[0;34m=\u001b[0m\u001b[0mhermi\u001b[0m\u001b[0;34m)\u001b[0m\u001b[0;34m\u001b[0m\u001b[0m\n\u001b[0m\u001b[1;32m   1430\u001b[0m             \u001b[0;32mreturn\u001b[0m \u001b[0mnumpy\u001b[0m\u001b[0;34m.\u001b[0m\u001b[0masarray\u001b[0m\u001b[0;34m(\u001b[0m\u001b[0mvhf_last\u001b[0m\u001b[0;34m)\u001b[0m \u001b[0;34m+\u001b[0m \u001b[0mvj\u001b[0m \u001b[0;34m-\u001b[0m \u001b[0mvk\u001b[0m \u001b[0;34m*\u001b[0m \u001b[0;36m.5\u001b[0m\u001b[0;34m\u001b[0m\u001b[0m\n\u001b[1;32m   1431\u001b[0m         \u001b[0;32melse\u001b[0m\u001b[0;34m:\u001b[0m\u001b[0;34m\u001b[0m\u001b[0m\n",
      "\u001b[0;32m~/Repos/pyscf/pyscf/scf/hf.py\u001b[0m in \u001b[0;36mget_jk\u001b[0;34m(self, mol, dm, hermi)\u001b[0m\n\u001b[1;32m   1553\u001b[0m             \u001b[0;32mif\u001b[0m \u001b[0mself\u001b[0m\u001b[0;34m.\u001b[0m\u001b[0m_eri\u001b[0m \u001b[0;32mis\u001b[0m \u001b[0;32mNone\u001b[0m\u001b[0;34m:\u001b[0m\u001b[0;34m\u001b[0m\u001b[0m\n\u001b[1;32m   1554\u001b[0m                 \u001b[0mself\u001b[0m\u001b[0;34m.\u001b[0m\u001b[0m_eri\u001b[0m \u001b[0;34m=\u001b[0m \u001b[0mmol\u001b[0m\u001b[0;34m.\u001b[0m\u001b[0mintor\u001b[0m\u001b[0;34m(\u001b[0m\u001b[0;34m'int2e'\u001b[0m\u001b[0;34m,\u001b[0m \u001b[0maosym\u001b[0m\u001b[0;34m=\u001b[0m\u001b[0;34m's8'\u001b[0m\u001b[0;34m)\u001b[0m\u001b[0;34m\u001b[0m\u001b[0m\n\u001b[0;32m-> 1555\u001b[0;31m             \u001b[0mvj\u001b[0m\u001b[0;34m,\u001b[0m \u001b[0mvk\u001b[0m \u001b[0;34m=\u001b[0m \u001b[0mdot_eri_dm\u001b[0m\u001b[0;34m(\u001b[0m\u001b[0mself\u001b[0m\u001b[0;34m.\u001b[0m\u001b[0m_eri\u001b[0m\u001b[0;34m,\u001b[0m \u001b[0mdm\u001b[0m\u001b[0;34m,\u001b[0m \u001b[0mhermi\u001b[0m\u001b[0;34m)\u001b[0m\u001b[0;34m\u001b[0m\u001b[0m\n\u001b[0m\u001b[1;32m   1556\u001b[0m         \u001b[0;32melse\u001b[0m\u001b[0;34m:\u001b[0m\u001b[0;34m\u001b[0m\u001b[0m\n\u001b[1;32m   1557\u001b[0m             \u001b[0mvj\u001b[0m\u001b[0;34m,\u001b[0m \u001b[0mvk\u001b[0m \u001b[0;34m=\u001b[0m \u001b[0mSCF\u001b[0m\u001b[0;34m.\u001b[0m\u001b[0mget_jk\u001b[0m\u001b[0;34m(\u001b[0m\u001b[0mself\u001b[0m\u001b[0;34m,\u001b[0m \u001b[0mmol\u001b[0m\u001b[0;34m,\u001b[0m \u001b[0mdm\u001b[0m\u001b[0;34m,\u001b[0m \u001b[0mhermi\u001b[0m\u001b[0;34m)\u001b[0m\u001b[0;34m\u001b[0m\u001b[0m\n",
      "\u001b[0;32m~/Repos/pyscf/pyscf/scf/hf.py\u001b[0m in \u001b[0;36mdot_eri_dm\u001b[0;34m(eri, dm, hermi)\u001b[0m\n\u001b[1;32m    576\u001b[0m     '''\n\u001b[1;32m    577\u001b[0m     \u001b[0;32mif\u001b[0m \u001b[0misinstance\u001b[0m\u001b[0;34m(\u001b[0m\u001b[0mdm\u001b[0m\u001b[0;34m,\u001b[0m \u001b[0mnumpy\u001b[0m\u001b[0;34m.\u001b[0m\u001b[0mndarray\u001b[0m\u001b[0;34m)\u001b[0m \u001b[0;32mand\u001b[0m \u001b[0mdm\u001b[0m\u001b[0;34m.\u001b[0m\u001b[0mndim\u001b[0m \u001b[0;34m==\u001b[0m \u001b[0;36m2\u001b[0m\u001b[0;34m:\u001b[0m\u001b[0;34m\u001b[0m\u001b[0m\n\u001b[0;32m--> 578\u001b[0;31m         \u001b[0mvj\u001b[0m\u001b[0;34m,\u001b[0m \u001b[0mvk\u001b[0m \u001b[0;34m=\u001b[0m \u001b[0m_vhf\u001b[0m\u001b[0;34m.\u001b[0m\u001b[0mincore\u001b[0m\u001b[0;34m(\u001b[0m\u001b[0meri\u001b[0m\u001b[0;34m,\u001b[0m \u001b[0mdm\u001b[0m\u001b[0;34m,\u001b[0m \u001b[0mhermi\u001b[0m\u001b[0;34m=\u001b[0m\u001b[0mhermi\u001b[0m\u001b[0;34m)\u001b[0m\u001b[0;34m\u001b[0m\u001b[0m\n\u001b[0m\u001b[1;32m    579\u001b[0m     \u001b[0;32melse\u001b[0m\u001b[0;34m:\u001b[0m\u001b[0;34m\u001b[0m\u001b[0m\n\u001b[1;32m    580\u001b[0m         \u001b[0mdm\u001b[0m \u001b[0;34m=\u001b[0m \u001b[0mnumpy\u001b[0m\u001b[0;34m.\u001b[0m\u001b[0masarray\u001b[0m\u001b[0;34m(\u001b[0m\u001b[0mdm\u001b[0m\u001b[0;34m,\u001b[0m \u001b[0morder\u001b[0m\u001b[0;34m=\u001b[0m\u001b[0;34m'C'\u001b[0m\u001b[0;34m)\u001b[0m\u001b[0;34m\u001b[0m\u001b[0m\n",
      "\u001b[0;32m~/Repos/pyscf/pyscf/scf/_vhf.py\u001b[0m in \u001b[0;36mincore\u001b[0;34m(eri, dm, hermi)\u001b[0m\n\u001b[1;32m    119\u001b[0m         \u001b[0;32melse\u001b[0m\u001b[0;34m:\u001b[0m\u001b[0;34m\u001b[0m\u001b[0m\n\u001b[1;32m    120\u001b[0m             \u001b[0mfvk\u001b[0m \u001b[0;34m=\u001b[0m \u001b[0m_fpointer\u001b[0m\u001b[0;34m(\u001b[0m\u001b[0;34m'CVHFics8_jk_s1il'\u001b[0m\u001b[0;34m)\u001b[0m\u001b[0;34m\u001b[0m\u001b[0m\n\u001b[0;32m--> 121\u001b[0;31m         \u001b[0mtridm\u001b[0m \u001b[0;34m=\u001b[0m \u001b[0mpyscf\u001b[0m\u001b[0;34m.\u001b[0m\u001b[0mlib\u001b[0m\u001b[0;34m.\u001b[0m\u001b[0mpack_tril\u001b[0m\u001b[0;34m(\u001b[0m\u001b[0mpyscf\u001b[0m\u001b[0;34m.\u001b[0m\u001b[0mlib\u001b[0m\u001b[0;34m.\u001b[0m\u001b[0mtranspose_sum\u001b[0m\u001b[0;34m(\u001b[0m\u001b[0mdm\u001b[0m\u001b[0;34m)\u001b[0m\u001b[0;34m)\u001b[0m\u001b[0;34m\u001b[0m\u001b[0m\n\u001b[0m\u001b[1;32m    122\u001b[0m         \u001b[0mi\u001b[0m \u001b[0;34m=\u001b[0m \u001b[0mnumpy\u001b[0m\u001b[0;34m.\u001b[0m\u001b[0marange\u001b[0m\u001b[0;34m(\u001b[0m\u001b[0mnao\u001b[0m\u001b[0;34m)\u001b[0m\u001b[0;34m\u001b[0m\u001b[0m\n\u001b[1;32m    123\u001b[0m         \u001b[0mtridm\u001b[0m\u001b[0;34m[\u001b[0m\u001b[0mi\u001b[0m\u001b[0;34m*\u001b[0m\u001b[0;34m(\u001b[0m\u001b[0mi\u001b[0m\u001b[0;34m+\u001b[0m\u001b[0;36m1\u001b[0m\u001b[0;34m)\u001b[0m\u001b[0;34m//\u001b[0m\u001b[0;36m2\u001b[0m\u001b[0;34m+\u001b[0m\u001b[0mi\u001b[0m\u001b[0;34m]\u001b[0m \u001b[0;34m*=\u001b[0m \u001b[0;36m.5\u001b[0m\u001b[0;34m\u001b[0m\u001b[0m\n",
      "\u001b[0;32m~/Repos/pyscf/pyscf/lib/numpy_helper.py\u001b[0m in \u001b[0;36mpack_tril\u001b[0;34m(mat, axis, out)\u001b[0m\n\u001b[1;32m     50\u001b[0m         fn(ctypes.c_int(count), ctypes.c_int(nd),\n\u001b[1;32m     51\u001b[0m            \u001b[0mout\u001b[0m\u001b[0;34m.\u001b[0m\u001b[0mctypes\u001b[0m\u001b[0;34m.\u001b[0m\u001b[0mdata_as\u001b[0m\u001b[0;34m(\u001b[0m\u001b[0mctypes\u001b[0m\u001b[0;34m.\u001b[0m\u001b[0mc_void_p\u001b[0m\u001b[0;34m)\u001b[0m\u001b[0;34m,\u001b[0m\u001b[0;34m\u001b[0m\u001b[0m\n\u001b[0;32m---> 52\u001b[0;31m            mat.ctypes.data_as(ctypes.c_void_p))\n\u001b[0m\u001b[1;32m     53\u001b[0m         \u001b[0;32mreturn\u001b[0m \u001b[0mout\u001b[0m\u001b[0;34m\u001b[0m\u001b[0m\n\u001b[1;32m     54\u001b[0m \u001b[0;34m\u001b[0m\u001b[0m\n",
      "\u001b[0;31mKeyboardInterrupt\u001b[0m: "
     ]
    }
   ],
   "source": [
    "# create a list of fitness values\n",
    "fitness_values = [ind.fitness.values[0] for ind in population]\n",
    "\n",
    "# Begin the evolution\n",
    "for i in range(MAX_ITERATIONS):\n",
    "\n",
    "    # Select next generation\n",
    "    offspring = toolbox.select(population, len(population))\n",
    "    offspring = list(map(toolbox.clone, offspring))\n",
    "\n",
    "    # do cross over\n",
    "    for child1, child2 in zip(offspring[::2], offspring[1::2]):\n",
    "\n",
    "        if random.random() < PROBABILITY_CROSSING:\n",
    "            toolbox.mate(child1, child2)\n",
    "\n",
    "            del child1.fitness.values\n",
    "            del child2.fitness.values\n",
    "            \n",
    "    # do mutation\n",
    "    for mutant in offspring:\n",
    "        if random.random() < PROBABILITY_MUTATION:\n",
    "            toolbox.mutate(mutant)\n",
    "            del mutant.fitness.values\n",
    "    \n",
    "    # recalculate fitness values of mates and mutants\n",
    "    invalid_individuals = [ind for ind in offspring if not ind.fitness.valid]\n",
    "    fitnesses = map(toolbox.evaluate, invalid_individuals)\n",
    "    for ind, fit in zip(invalid_individuals, fitnesses):\n",
    "        ind.fitness.values = fit\n",
    "    \n",
    "    population[:] = offspring\n",
    "    \n",
    "    # update list of fitness value\n",
    "    fitness_values = [ind.fitness.values[0] for ind in population]\n",
    "    \n",
    "    #E = sum(fitness_values) / len(fitness_values)\n",
    "    E = sum(fitness_values) / float(SIZE_POPULATION)\n",
    "    print(\"Generation: \" + str(i+1))\n",
    "    print(E, np.abs(E_old-E))\n",
    "    \n",
    "    \n",
    "    if np.abs(E - E_old) < CONVERGENCE_THRESHOLD:\n",
    "        print(\"\\n\\nCONVERGED!\\n\")\n",
    "        break\n",
    "\n",
    "    else:\n",
    "        E_old = E\n",
    "        \n",
    "    "
   ]
  },
  {
   "cell_type": "markdown",
   "metadata": {},
   "source": [
    "# Checking the Result "
   ]
  },
  {
   "cell_type": "code",
   "execution_count": null,
   "metadata": {},
   "outputs": [],
   "source": [
    "best_ind = tools.selBest(population, 1)[0]\n",
    "print(\"Distances: \\n - {0}\\n - {1}\".format(best_ind[0], best_ind[1]))\n",
    "print(\"Angle: {0}\".format(best_ind[2] * 360 / (2 * np.pi) % 360))\n",
    "print(\"Energy: {0}\".format(best_ind.fitness.values))"
   ]
  },
  {
   "cell_type": "code",
   "execution_count": null,
   "metadata": {},
   "outputs": [],
   "source": [
    "mol = build_molecule_from_genome(best_ind)\n",
    "mol.atom"
   ]
  },
  {
   "cell_type": "code",
   "execution_count": null,
   "metadata": {},
   "outputs": [],
   "source": [
    "import matplotlib.pylab as plt\n",
    "\n",
    "x = [t[1] for t in mol.atom]\n",
    "y = [t[2] for t in mol.atom]\n",
    "z = [t[3] for t in mol.atom]\n",
    "\n",
    "lower, upper = -1.5, 1.5\n",
    "\n",
    "plt.subplot(2, 2, 1)\n",
    "plt.scatter(x[0], y[0], label=\"C\")\n",
    "plt.scatter(x[1:], y[1:], marker=\"x\", label=\"H\")\n",
    "plt.xlabel(\"x\")\n",
    "plt.ylabel(\"y\")\n",
    "plt.xlim(lower, upper)\n",
    "plt.ylim(lower, upper)\n",
    "\n",
    "plt.subplot(2, 2, 2)\n",
    "plt.scatter(x[0], z[0], label=\"C\")\n",
    "plt.scatter(x[1:], z[1:], marker=\"x\", label=\"H\")\n",
    "plt.xlabel(\"x\")\n",
    "plt.ylabel(\"z\")\n",
    "plt.xlim(lower, upper)\n",
    "plt.ylim(lower, upper)\n",
    "\n",
    "plt.subplot(2, 2, 3)\n",
    "plt.scatter(y[0], z[0], label=\"C\")\n",
    "plt.scatter(y[1:], z[1:], marker=\"x\", label=\"H\")\n",
    "plt.xlabel(\"y\")\n",
    "plt.ylabel(\"z\")\n",
    "plt.xlim(lower, upper)\n",
    "plt.ylim(lower, upper)\n",
    "\n",
    "plt.show()"
   ]
  },
  {
   "cell_type": "code",
   "execution_count": null,
   "metadata": {},
   "outputs": [],
   "source": []
  }
 ],
 "metadata": {
  "kernelspec": {
   "display_name": "Python 3",
   "language": "python",
   "name": "python3"
  },
  "language_info": {
   "codemirror_mode": {
    "name": "ipython",
    "version": 3
   },
   "file_extension": ".py",
   "mimetype": "text/x-python",
   "name": "python",
   "nbconvert_exporter": "python",
   "pygments_lexer": "ipython3",
   "version": "3.6.4"
  }
 },
 "nbformat": 4,
 "nbformat_minor": 2
}
