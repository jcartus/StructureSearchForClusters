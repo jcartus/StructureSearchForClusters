{
 "cells": [
  {
   "cell_type": "code",
   "execution_count": 1,
   "metadata": {},
   "outputs": [],
   "source": [
    "import random\n",
    "import numpy as np\n",
    "\n",
    "from deap import base\n",
    "from deap import creator\n",
    "from deap import tools"
   ]
  },
  {
   "cell_type": "code",
   "execution_count": 2,
   "metadata": {},
   "outputs": [],
   "source": [
    "creator.create(\"FitnessMin\", base.Fitness, weights=(-1.0,))\n",
    "creator.create(\"Individual\", list, fitness=creator.FitnessMin)"
   ]
  },
  {
   "cell_type": "markdown",
   "metadata": {},
   "source": [
    "# Setup the System\n",
    "- genome is now 3 params: distance OH1, Distance Oh2, angle H1OH2.\n",
    "- Molecule will always be in xy plane\n"
   ]
  },
  {
   "cell_type": "code",
   "execution_count": 3,
   "metadata": {},
   "outputs": [],
   "source": [
    "toolbox = base.Toolbox()\n",
    "\n",
    "toolbox.register(\"init_gene\", random.random)\n",
    "toolbox.register(\"init_individual\", tools.initRepeat, \n",
    "                 creator.Individual, toolbox.init_gene, 3)\n",
    "\n",
    "toolbox.register(\"init_population\", tools.initRepeat, \n",
    "                 list, toolbox.init_individual)"
   ]
  },
  {
   "cell_type": "code",
   "execution_count": 4,
   "metadata": {},
   "outputs": [
    {
     "name": "stderr",
     "output_type": "stream",
     "text": [
      "/home/jo/anaconda3/lib/python3.6/site-packages/h5py/__init__.py:36: FutureWarning: Conversion of the second argument of issubdtype from `float` to `np.floating` is deprecated. In future, it will be treated as `np.float64 == np.dtype(float).type`.\n",
      "  from ._conv import register_converters as _register_converters\n"
     ]
    }
   ],
   "source": [
    "from pyscf.gto import Mole\n",
    "from pyscf.scf import RHF\n",
    "\n",
    "def build_molecule_from_genome(genome):\n",
    "    \n",
    "    atoms = [\n",
    "        (\"O\", 0, 0, 0),\n",
    "        (\"H\", 0, genome[0], 0),\n",
    "        (\"H\", genome[1] * np.cos(genome[2]), genome[1] * np.sin(genome[2]), 0)\n",
    "    ]\n",
    "    \n",
    "    mol = Mole()\n",
    "    mol.atom = atoms\n",
    "    mol.basis = \"sto-3g\"\n",
    "    mol.build()\n",
    "    return mol\n",
    "    \n",
    "def evaluateFitness(individual):\n",
    "    \n",
    "    mol = build_molecule_from_genome(individual)\n",
    "    \n",
    "    mf = RHF(mol)\n",
    "    mf.verboseose = 1\n",
    "    E = mf.scf()\n",
    "    \n",
    "    # this shit has to be a tuple!!\n",
    "    return E,\n",
    "\n",
    "toolbox.register(\"evaluate\", evaluateFitness)"
   ]
  },
  {
   "cell_type": "code",
   "execution_count": 5,
   "metadata": {},
   "outputs": [],
   "source": [
    "toolbox.register(\"mate\", tools.cxTwoPoint)\n",
    "toolbox.register(\"mutate\", tools.mutFlipBit, indpb=0.05) # flip gene with 0.05 % probability\n",
    "toolbox.register(\"select\", tools.selTournament, tournsize=3)"
   ]
  },
  {
   "cell_type": "markdown",
   "metadata": {},
   "source": [
    "# Do the Optimazation "
   ]
  },
  {
   "cell_type": "code",
   "execution_count": 6,
   "metadata": {},
   "outputs": [],
   "source": [
    "PROBABILITY_CROSSING = 0.5\n",
    "PROBABILITY_MUTATION = 0.5\n",
    "\n",
    "MAX_ITERATIONS = 1000\n",
    "\n",
    "CONVERGENCE_THRESHOLD = 1e-10\n",
    "\n",
    "E_old = 1e10"
   ]
  },
  {
   "cell_type": "code",
   "execution_count": 7,
   "metadata": {},
   "outputs": [],
   "source": [
    "SIZE_POPULATION = 30\n",
    "\n",
    "population = toolbox.init_population(n=SIZE_POPULATION)"
   ]
  },
  {
   "cell_type": "code",
   "execution_count": 8,
   "metadata": {},
   "outputs": [
    {
     "name": "stderr",
     "output_type": "stream",
     "text": [
      "<class 'pyscf.scf.hf.RHF'> does not have attributes  verboseose\n"
     ]
    },
    {
     "name": "stdout",
     "output_type": "stream",
     "text": [
      "converged SCF energy = -50.3615570102207\n",
      "converged SCF energy = -74.1622522112728\n",
      "converged SCF energy = -71.5852541026986\n",
      "converged SCF energy = -68.4397294410335\n",
      "converged SCF energy = -70.3940381951987\n",
      "converged SCF energy = -73.6948715531171\n",
      "converged SCF energy = 397.979476121848\n",
      "converged SCF energy = -73.8849302665517\n",
      "converged SCF energy = -73.2776533211309\n",
      "converged SCF energy = 109.634992390971\n",
      "converged SCF energy = -74.1143678785617\n",
      "converged SCF energy = 632.166342831182\n",
      "converged SCF energy = -72.6423659407072\n",
      "converged SCF energy = -73.9300554556457\n",
      "converged SCF energy = -74.9264137562848\n",
      "converged SCF energy = -74.7061076542784\n",
      "converged SCF energy = -67.5301897715061\n",
      "converged SCF energy = -74.0520254132299\n",
      "converged SCF energy = -73.6577364111559\n",
      "converged SCF energy = 689.321062484134\n",
      "converged SCF energy = -38.7764321456016\n",
      "converged SCF energy = 653.940131443484\n",
      "converged SCF energy = -47.8755495539537\n",
      "converged SCF energy = -74.4899823817094\n",
      "converged SCF energy = -73.721062548239\n",
      "converged SCF energy = 37.5784678325111\n",
      "converged SCF energy = -57.1388139628522\n",
      "converged SCF energy = -67.0905674758626\n",
      "converged SCF energy = -74.8682800397151\n",
      "converged SCF energy = -74.0387141695876\n"
     ]
    }
   ],
   "source": [
    "fitnesses = list(map(toolbox.evaluate, population))\n",
    "\n",
    "for ind, fit in zip(population, fitnesses):\n",
    "    ind.fitness.values = fit"
   ]
  },
  {
   "cell_type": "code",
   "execution_count": 9,
   "metadata": {},
   "outputs": [
    {
     "name": "stdout",
     "output_type": "stream",
     "text": [
      "converged SCF energy = -74.326031251344\n",
      "converged SCF energy = -73.6979968326005\n",
      "converged SCF energy = -73.3516059892936\n",
      "converged SCF energy = -74.2662410450059\n",
      "converged SCF energy = -74.4899823817095\n",
      "converged SCF energy = -74.7061076542784\n",
      "converged SCF energy = -74.9264137562848\n",
      "converged SCF energy = -74.1248554987549\n",
      "converged SCF energy = -74.4240277603575\n",
      "converged SCF energy = -74.0824305742793\n",
      "converged SCF energy = -68.1316971013686\n",
      "converged SCF energy = -40.3831925041364\n",
      "converged SCF energy = -72.7593738764363\n"
     ]
    },
    {
     "name": "stderr",
     "output_type": "stream",
     "text": [
      "/home/jo/Repos/pyscf/pyscf/gto/mole.py:1045: RuntimeWarning: divide by zero encountered in true_divide\n",
      "  e = (qq/r).sum() * .5\n",
      "/home/jo/Repos/pyscf/pyscf/scf/hf.py:154: RuntimeWarning: invalid value encountered in double_scalars\n",
      "  cycle+1, e_tot, e_tot-last_hf_e, norm_gorb, norm_ddm)\n",
      "/home/jo/Repos/pyscf/pyscf/scf/hf.py:156: RuntimeWarning: invalid value encountered in double_scalars\n",
      "  if (abs(e_tot-last_hf_e) < conv_tol and norm_gorb < conv_tol_grad):\n"
     ]
    },
    {
     "name": "stdout",
     "output_type": "stream",
     "text": [
      "converged SCF energy = inf\n",
      "converged SCF energy = inf\n"
     ]
    },
    {
     "name": "stderr",
     "output_type": "stream",
     "text": [
      "/home/jo/Repos/pyscf/pyscf/scf/hf.py:181: RuntimeWarning: invalid value encountered in double_scalars\n",
      "  scf_conv = (abs(e_tot-last_hf_e) < conv_tol*10 or\n",
      "/home/jo/Repos/pyscf/pyscf/scf/hf.py:184: RuntimeWarning: invalid value encountered in double_scalars\n",
      "  e_tot, e_tot-last_hf_e, norm_gorb, norm_ddm)\n"
     ]
    },
    {
     "name": "stdout",
     "output_type": "stream",
     "text": [
      "converged SCF energy = -74.7999765600031\n",
      "converged SCF energy = -74.2802261477563\n",
      "converged SCF energy = -74.3504297346412\n",
      "converged SCF energy = -73.6577364111559\n",
      "converged SCF energy = -74.4899823817095\n",
      "converged SCF energy = inf\n",
      "converged SCF energy = -74.799976560003\n",
      "converged SCF energy = -74.1622522112728\n",
      "converged SCF energy = -73.6948715531172\n",
      "converged SCF energy = -74.0387141695876\n",
      "converged SCF energy = -74.0387141695876\n",
      "10000000000.0 -74.92641375628482\n",
      "converged SCF energy = inf\n",
      "converged SCF energy = -74.8487136956568\n",
      "converged SCF energy = -73.4513922613457\n",
      "converged SCF energy = -74.2324473857935\n",
      "converged SCF energy = -74.9264137562849\n",
      "converged SCF energy = inf\n",
      "converged SCF energy = -74.0900547815952\n",
      "converged SCF energy = -74.318598038177\n",
      "converged SCF energy = -74.93207160293\n",
      "converged SCF energy = -74.0527390738392\n",
      "converged SCF energy = -74.4899823817095\n",
      "converged SCF energy = -74.2802261477563\n",
      "converged SCF energy = -74.1368720382738\n",
      "converged SCF energy = -74.8917155906423\n",
      "converged SCF energy = -74.5098936900095\n",
      "converged SCF energy = -74.3317159992892\n",
      "converged SCF energy = -74.9264137562849\n",
      "converged SCF energy = inf\n",
      "converged SCF energy = -74.2802261477563\n",
      "converged SCF energy = -74.8535373173709\n",
      "converged SCF energy = -74.0594378825375\n",
      "converged SCF energy = -74.3705016087068\n",
      "converged SCF energy = -74.9038889704472\n",
      "-74.92641375628482 -74.93207160292997\n",
      "converged SCF energy = -74.9038889704472\n",
      "converged SCF energy = -74.8771329221163\n",
      "converged SCF energy = inf\n",
      "converged SCF energy = -74.2324473857935\n",
      "converged SCF energy = -74.8917155906422\n",
      "converged SCF energy = -74.9264137562848\n",
      "converged SCF energy = -74.7061076542784\n",
      "converged SCF energy = -74.9264137562848\n",
      "converged SCF energy = -74.9264137562849\n",
      "converged SCF energy = -74.3194684682799\n",
      "converged SCF energy = -74.9037317378865\n",
      "converged SCF energy = -74.7061076542784\n",
      "converged SCF energy = -74.5098936900095\n",
      "converged SCF energy = -74.9298387996033\n",
      "converged SCF energy = -74.9286824008456\n",
      "converged SCF energy = -74.9109929508945\n",
      "converged SCF energy = -74.9201691526016\n",
      "converged SCF energy = -74.797116094923\n",
      "converged SCF energy = -74.8513621777582\n",
      "converged SCF energy = -74.8917155906423\n",
      "converged SCF energy = -74.8917155906423\n",
      "converged SCF energy = -74.5165253573514\n",
      "converged SCF energy = -74.9114677319121\n",
      "converged SCF energy = -74.8535373173708\n",
      "converged SCF energy = -74.9114677319121\n",
      "converged SCF energy = -74.5165253573514\n",
      "-74.93207160292997 -74.92983879960327\n",
      "converged SCF energy = -74.913342547928\n",
      "converged SCF energy = -74.9271009574788\n",
      "converged SCF energy = -74.9248367909787\n",
      "converged SCF energy = -74.9313095555559\n",
      "converged SCF energy = -74.9109929508945\n",
      "converged SCF energy = -74.9201691526016\n",
      "converged SCF energy = -74.9091187737795\n",
      "converged SCF energy = -74.7983932778919\n",
      "converged SCF energy = -74.8513621777583\n",
      "converged SCF energy = -74.7927217767207\n",
      "converged SCF energy = -74.9248367909787\n",
      "converged SCF energy = -74.8543253205503\n",
      "converged SCF energy = -74.9109929508945\n",
      "converged SCF energy = -74.8710964273634\n",
      "converged SCF energy = -74.9109929508945\n",
      "converged SCF energy = -74.9201691526016\n",
      "converged SCF energy = -74.9264137562848\n",
      "converged SCF energy = -74.9201691526016\n",
      "converged SCF energy = -74.9109929508945\n",
      "converged SCF energy = -74.9264137562849\n",
      "converged SCF energy = -74.5165253573514\n",
      "converged SCF energy = -74.9114677319121\n",
      "converged SCF energy = -74.9313095555559\n",
      "converged SCF energy = -74.9248367909787\n",
      "converged SCF energy = -74.9286824008456\n",
      "converged SCF energy = -74.9264137562849\n",
      "converged SCF energy = -74.9264137562848\n",
      "converged SCF energy = -74.9037317378864\n",
      "-74.92983879960327 -74.93130955555594\n",
      "converged SCF energy = -74.9286824008456\n",
      "converged SCF energy = -74.9109929508945\n",
      "converged SCF energy = -74.9351916269423\n",
      "converged SCF energy = -74.9313095555559\n",
      "converged SCF energy = -74.9313095555559\n",
      "converged SCF energy = -74.9264137562848\n",
      "converged SCF energy = -74.9248367909787\n",
      "converged SCF energy = -74.9264137562849\n",
      "converged SCF energy = -74.9264137562848\n",
      "converged SCF energy = -74.9248367909787\n",
      "converged SCF energy = -74.9271009574787\n",
      "converged SCF energy = -74.9286824008456\n",
      "converged SCF energy = -74.9264137562849\n",
      "converged SCF energy = -74.9286824008456\n",
      "converged SCF energy = inf\n",
      "converged SCF energy = -74.9264137562849\n",
      "-74.93130955555594 -74.93519162694226\n",
      "converged SCF energy = -74.9286824008456\n",
      "converged SCF energy = -74.931309555556\n",
      "converged SCF energy = -74.9351916269422\n",
      "converged SCF energy = -74.9313095555559\n",
      "converged SCF energy = -74.9351916269422\n",
      "converged SCF energy = inf\n",
      "converged SCF energy = -74.9313095555559\n",
      "converged SCF energy = -74.9313095555559\n",
      "converged SCF energy = -74.9313095555559\n",
      "converged SCF energy = -74.9286824008456\n",
      "converged SCF energy = -74.9313095555559\n",
      "converged SCF energy = -74.93207160293\n",
      "converged SCF energy = -74.9264137562849\n",
      "converged SCF energy = -74.9351916269422\n",
      "converged SCF energy = -74.9264137562849\n",
      "converged SCF energy = -74.9313095555559\n",
      "converged SCF energy = -74.9313095555559\n",
      "converged SCF energy = -74.9286824008456\n",
      "converged SCF energy = -74.9313095555559\n",
      "converged SCF energy = -74.9248367909787\n",
      "converged SCF energy = -74.9286824008456\n",
      "converged SCF energy = -74.9313095555559\n",
      "converged SCF energy = -74.9313095555559\n",
      "-74.93519162694226 -74.93519162694226\n"
     ]
    }
   ],
   "source": [
    "# create a list of fitness values\n",
    "fitness_values = [ind.fitness.values[0] for ind in population]\n",
    "\n",
    "# Begin the evolution\n",
    "for i in range(MAX_ITERATIONS):\n",
    "\n",
    "    # Select next generation\n",
    "    offspring = toolbox.select(population, len(population))\n",
    "    offspring = list(map(toolbox.clone, offspring))\n",
    "\n",
    "    # do cross over\n",
    "    for child1, child2 in zip(offspring[::2], offspring[1::2]):\n",
    "\n",
    "        if random.random() < PROBABILITY_CROSSING:\n",
    "            toolbox.mate(child1, child2)\n",
    "\n",
    "            del child1.fitness.values\n",
    "            del child2.fitness.values\n",
    "            \n",
    "    # do mutation\n",
    "    for mutant in offspring:\n",
    "        if random.random() < PROBABILITY_MUTATION:\n",
    "            toolbox.mutate(mutant)\n",
    "            del mutant.fitness.values\n",
    "    \n",
    "    # recalculate fitness values of mates and mutants\n",
    "    invalid_individuals = [ind for ind in offspring if not ind.fitness.valid]\n",
    "    fitnesses = map(toolbox.evaluate, invalid_individuals)\n",
    "    for ind, fit in zip(invalid_individuals, fitnesses):\n",
    "        ind.fitness.values = fit\n",
    "    \n",
    "    population[:] = offspring\n",
    "    \n",
    "    # update list of fitness value\n",
    "    fitness_values = [ind.fitness.values[0] for ind in population]\n",
    "    \n",
    "    #E = sum(fitness_values) / len(fitness_values)\n",
    "    E = min(fitness_values)\n",
    "    print(E_old, E)\n",
    "    \n",
    "    if np.abs(E - E_old) < CONVERGENCE_THRESHOLD:\n",
    "        break\n",
    "    else:\n",
    "        E_old = E\n",
    "        \n",
    "    \n",
    "    "
   ]
  },
  {
   "cell_type": "code",
   "execution_count": 10,
   "metadata": {},
   "outputs": [
    {
     "name": "stdout",
     "output_type": "stream",
     "text": [
      "(-74.93519162694226,)\n"
     ]
    }
   ],
   "source": [
    "best_ind = tools.selBest(population, 1)[0]\n",
    "print(best_ind.fitness.values)"
   ]
  },
  {
   "cell_type": "markdown",
   "metadata": {},
   "source": [
    "# Checking the Result "
   ]
  },
  {
   "cell_type": "code",
   "execution_count": 13,
   "metadata": {},
   "outputs": [
    {
     "data": {
      "text/plain": [
       "[0, 0, 0.8652759592715109]"
      ]
     },
     "execution_count": 13,
     "metadata": {},
     "output_type": "execute_result"
    }
   ],
   "source": [
    "mol = build_molecule_from_genome(best_ind)\n"
   ]
  },
  {
   "cell_type": "code",
   "execution_count": 15,
   "metadata": {},
   "outputs": [
    {
     "data": {
      "image/png": "[encoded data removed]",
      "text/plain": [
       "<matplotlib.figure.Figure at 0x7faad4447860>"
      ]
     },
     "metadata": {},
     "output_type": "display_data"
    }
   ],
   "source": [
    "import matplotlib.pylab as plt\n",
    "\n",
    "x = [t[1] for t in mol.atom]\n",
    "y = [t[2] for t in mol.atom]\n",
    "z = [t[3] for t in mol.atom]\n",
    "\n",
    "lower, upper = -0.5, 1.5\n",
    "\n",
    "plt.subplot(2, 2, 1)\n",
    "plt.scatter(x[0], y[0], label=\"C\")\n",
    "plt.scatter(x[1:], y[1:], label=\"H\")\n",
    "plt.xlabel(\"x\")\n",
    "plt.ylabel(\"y\")\n",
    "plt.xlim(lower, upper)\n",
    "plt.ylim(lower, upper)\n",
    "\n",
    "plt.subplot(2, 2, 2)\n",
    "plt.scatter(x[0], z[0], label=\"C\")\n",
    "plt.scatter(x[1:], z[1:], label=\"H\")\n",
    "plt.xlabel(\"x\")\n",
    "plt.ylabel(\"z\")\n",
    "plt.xlim(lower, upper)\n",
    "plt.ylim(lower, upper)\n",
    "\n",
    "plt.subplot(2, 2, 3)\n",
    "plt.scatter(y[0], z[0], label=\"C\")\n",
    "plt.scatter(y[1:], z[1:], label=\"H\")\n",
    "plt.xlabel(\"y\")\n",
    "plt.ylabel(\"z\")\n",
    "plt.xlim(lower, upper)\n",
    "plt.ylim(lower, upper)\n",
    "\n",
    "plt.show()"
   ]
  },
  {
   "cell_type": "code",
   "execution_count": null,
   "metadata": {},
   "outputs": [],
   "source": [
    "O  = np.array([x[0], y[0], z[0]])\n",
    "H1 = np.array([x[1], y[1], z[1]])\n",
    "H2 = np.array([x[2], y[2], z[2]])\n",
    "\n",
    "\n",
    "OH1 = C - H1\n",
    "OH2 = C - H2\n",
    "distance_C_H1 = np.linalg.norm(CH1)\n",
    "distance_C_H2 = np.linalg.norm(CH2)\n",
    "\n",
    "angle = np.arccos(np.dot(CH1, CH2) / (distance_C_H1 * distance_C_H2))\n",
    "\n",
    "print(\"Distance C-H1: {0},\\nDistance C-H2: {1},\\nAngle Distance C-H1: {2}\".format(\n",
    "    distance_C_H1,\n",
    "    distance_C_H2,\n",
    "    angle / (2 * np.pi) * 360\n",
    "))"
   ]
  },
  {
   "cell_type": "code",
   "execution_count": null,
   "metadata": {},
   "outputs": [],
   "source": []
  }
 ],
 "metadata": {
  "kernelspec": {
   "display_name": "Python 3",
   "language": "python",
   "name": "python3"
  },
  "language_info": {
   "codemirror_mode": {
    "name": "ipython",
    "version": 3
   },
   "file_extension": ".py",
   "mimetype": "text/x-python",
   "name": "python",
   "nbconvert_exporter": "python",
   "pygments_lexer": "ipython3",
   "version": "3.6.4"
  }
 },
 "nbformat": 4,
 "nbformat_minor": 2
}
