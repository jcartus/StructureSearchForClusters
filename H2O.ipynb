{
 "cells": [
  {
   "cell_type": "code",
   "execution_count": 1,
   "metadata": {},
   "outputs": [],
   "source": [
    "import random\n",
    "import numpy as np\n",
    "\n",
    "from deap import base\n",
    "from deap import creator\n",
    "from deap import tools"
   ]
  },
  {
   "cell_type": "code",
   "execution_count": 2,
   "metadata": {},
   "outputs": [],
   "source": [
    "creator.create(\"FitnessMin\", base.Fitness, weights=(-1.0,))\n",
    "creator.create(\"Individual\", list, fitness=creator.FitnessMin)"
   ]
  },
  {
   "cell_type": "code",
   "execution_count": 3,
   "metadata": {},
   "outputs": [],
   "source": [
    "toolbox = base.Toolbox()\n",
    "\n",
    "toolbox.register(\"init_gene\", random.random)\n",
    "toolbox.register(\"init_individual\", tools.initRepeat, \n",
    "                 creator.Individual, toolbox.init_gene, 9)\n",
    "\n",
    "toolbox.register(\"init_population\", tools.initRepeat, \n",
    "                 list, toolbox.init_individual)"
   ]
  },
  {
   "cell_type": "code",
   "execution_count": 4,
   "metadata": {},
   "outputs": [
    {
     "name": "stderr",
     "output_type": "stream",
     "text": [
      "/home/jo/anaconda3/lib/python3.6/site-packages/h5py/__init__.py:36: FutureWarning: Conversion of the second argument of issubdtype from `float` to `np.floating` is deprecated. In future, it will be treated as `np.float64 == np.dtype(float).type`.\n",
      "  from ._conv import register_converters as _register_converters\n"
     ]
    }
   ],
   "source": [
    "from pyscf.gto import Mole\n",
    "from pyscf.scf import RHF\n",
    "\n",
    "def build_molecule_from_genome(genome):\n",
    "    atoms = [\n",
    "        (\"O\", genome[0], genome[1], genome[2]),\n",
    "        (\"H\", genome[3], genome[4], genome[5]),\n",
    "        (\"H\", genome[6], genome[7], genome[8])\n",
    "    ]\n",
    "    \n",
    "    mol = Mole()\n",
    "    mol.atom = atoms\n",
    "    mol.basis = \"sto-3g\"\n",
    "    mol.build()\n",
    "    return mol\n",
    "    \n",
    "def evaluateFitness(individual):\n",
    "    \n",
    "    mol = build_molecule_from_genome(individual)\n",
    "    \n",
    "    mf = RHF(mol)\n",
    "    mf.verboseose = 1\n",
    "    E = mf.scf()\n",
    "    \n",
    "    # this shit has to be a tuple!!\n",
    "    return E,\n",
    "\n",
    "toolbox.register(\"evaluate\", evaluateFitness)"
   ]
  },
  {
   "cell_type": "code",
   "execution_count": 5,
   "metadata": {},
   "outputs": [],
   "source": [
    "toolbox.register(\"mate\", tools.cxTwoPoint)\n",
    "toolbox.register(\"mutate\", tools.mutFlipBit, indpb=0.05) # flip gene with 0.05 % probability\n",
    "toolbox.register(\"select\", tools.selTournament, tournsize=3)"
   ]
  },
  {
   "cell_type": "markdown",
   "metadata": {},
   "source": [
    "# Do the Optimazation "
   ]
  },
  {
   "cell_type": "code",
   "execution_count": 6,
   "metadata": {},
   "outputs": [],
   "source": [
    "PROBABILITY_CROSSING = 0.5\n",
    "PROBABILITY_MUTATION = 0.5\n",
    "\n",
    "MAX_ITERATIONS = 1000\n",
    "\n",
    "CONVERGENCE_THRESHOLD = 1e-10\n",
    "\n",
    "E_old = 1e10"
   ]
  },
  {
   "cell_type": "code",
   "execution_count": 7,
   "metadata": {},
   "outputs": [],
   "source": [
    "SIZE_POPULATION = 30\n",
    "\n",
    "population = toolbox.init_population(n=SIZE_POPULATION)"
   ]
  },
  {
   "cell_type": "code",
   "execution_count": 8,
   "metadata": {},
   "outputs": [
    {
     "name": "stdout",
     "output_type": "stream",
     "text": [
      "converged SCF energy = -71.6455719977427\n",
      "converged SCF energy = -74.1075077154401\n"
     ]
    },
    {
     "name": "stderr",
     "output_type": "stream",
     "text": [
      "<class 'pyscf.scf.hf.RHF'> does not have attributes  verboseose\n"
     ]
    },
    {
     "name": "stdout",
     "output_type": "stream",
     "text": [
      "converged SCF energy = -73.7295558970304\n",
      "converged SCF energy = -72.3708371487364\n",
      "converged SCF energy = -74.0340098792531\n",
      "converged SCF energy = -71.7180719641193\n",
      "converged SCF energy = -70.2043587472147\n",
      "converged SCF energy = -70.6634744936453\n",
      "converged SCF energy = -73.4406380725524\n",
      "converged SCF energy = -71.6716310407989\n",
      "converged SCF energy = -72.4427715125503\n",
      "converged SCF energy = -71.5619753397549\n",
      "converged SCF energy = -71.1006357013045\n",
      "converged SCF energy = -73.1918384355213\n",
      "converged SCF energy = -74.1838257509756\n",
      "converged SCF energy = -74.8831545916949\n",
      "converged SCF energy = -73.812472905598\n",
      "converged SCF energy = -72.4111677546145\n",
      "converged SCF energy = -58.8860237753499\n",
      "converged SCF energy = -74.5288245757116\n",
      "converged SCF energy = -72.4137117039943\n",
      "converged SCF energy = -73.4255780579001\n",
      "converged SCF energy = -59.7724177999014\n",
      "converged SCF energy = -74.5996997835119\n",
      "converged SCF energy = -74.6269008287131\n",
      "converged SCF energy = -72.5373600498219\n",
      "converged SCF energy = -73.6923010754027\n",
      "converged SCF energy = -71.0114200938532\n",
      "converged SCF energy = -72.2133517330731\n",
      "converged SCF energy = -74.3295349687607\n"
     ]
    }
   ],
   "source": [
    "fitnesses = list(map(toolbox.evaluate, population))\n",
    "\n",
    "for ind, fit in zip(population, fitnesses):\n",
    "    ind.fitness.values = fit"
   ]
  },
  {
   "cell_type": "code",
   "execution_count": 9,
   "metadata": {},
   "outputs": [
    {
     "name": "stdout",
     "output_type": "stream",
     "text": [
      "converged SCF energy = -73.7295558970304\n",
      "converged SCF energy = -74.8054843094545\n",
      "converged SCF energy = -74.5288245757116\n",
      "converged SCF energy = -74.1854916140017\n",
      "converged SCF energy = -74.6968703272065\n",
      "converged SCF energy = -70.7987484684045\n",
      "converged SCF energy = -74.0802315422683\n",
      "converged SCF energy = -73.131612027342\n",
      "converged SCF energy = -74.1838257509756\n",
      "converged SCF energy = -74.1838257509756\n",
      "converged SCF energy = -74.8117424130229\n",
      "converged SCF energy = -73.1576455860665\n",
      "converged SCF energy = -66.1322678155239\n",
      "converged SCF energy = -72.6632911789324\n",
      "converged SCF energy = -74.7105030070539\n",
      "converged SCF energy = -74.5744439637276\n",
      "converged SCF energy = -73.3990450204173\n",
      "converged SCF energy = -73.4406380725524\n",
      "converged SCF energy = -72.4111677546145\n",
      "converged SCF energy = -74.8831545916949\n",
      "converged SCF energy = -74.5996997835119\n",
      "10000000000.0 -74.8831545916949\n",
      "converged SCF energy = -74.731116378314\n",
      "converged SCF energy = -66.6898239456287\n",
      "converged SCF energy = -73.6438994975173\n",
      "converged SCF energy = -73.4963810303784\n",
      "converged SCF energy = -74.77915107764\n",
      "converged SCF energy = -73.8831242201389\n",
      "converged SCF energy = -74.4986731846926\n",
      "converged SCF energy = -73.6655341265405\n",
      "converged SCF energy = -72.1539721599436\n",
      "converged SCF energy = -70.4591524190277\n",
      "converged SCF energy = -73.9016417851741\n",
      "converged SCF energy = -74.5996997835119\n",
      "converged SCF energy = -74.5288245757116\n",
      "converged SCF energy = -74.4015547880522\n",
      "converged SCF energy = -74.9142781784765\n",
      "converged SCF energy = -74.5744439637276\n",
      "converged SCF energy = -73.6923010754027\n",
      "converged SCF energy = -74.6968703272065\n",
      "converged SCF energy = -74.6968703272066\n",
      "converged SCF energy = -74.5996997835119\n",
      "converged SCF energy = -74.8831545916949\n",
      "converged SCF energy = -74.1838257509756\n",
      "converged SCF energy = -74.7806214566632\n",
      "converged SCF energy = -74.6269008287131\n",
      "-74.8831545916949 -74.91427817847651\n",
      "converged SCF energy = -74.77915107764\n",
      "converged SCF energy = -74.2977408696018\n",
      "converged SCF energy = -74.7791774574018\n",
      "converged SCF energy = -74.479098771826\n",
      "converged SCF energy = -73.9016417851741\n",
      "converged SCF energy = -74.7105030070539\n",
      "converged SCF energy = -74.7105030070539\n",
      "converged SCF energy = -74.7396951856155\n",
      "converged SCF energy = -74.5288245757116\n",
      "converged SCF energy = -73.6655341265405\n",
      "converged SCF energy = -74.77915107764\n",
      "converged SCF energy = -74.892432556913\n",
      "converged SCF energy = -74.0926245045647\n",
      "converged SCF energy = -74.7856936778985\n",
      "converged SCF energy = -74.4630966805657\n",
      "converged SCF energy = -74.3193424801077\n",
      "converged SCF energy = -74.5457662787516\n",
      "converged SCF energy = -74.7823022702524\n",
      "converged SCF energy = -74.885154726743\n",
      "converged SCF energy = -74.684853306886\n",
      "-74.91427817847651 -74.91427817847651\n"
     ]
    }
   ],
   "source": [
    "# create a list of fitness values\n",
    "fitness_values = [ind.fitness.values[0] for ind in population]\n",
    "\n",
    "# Begin the evolution\n",
    "for i in range(MAX_ITERATIONS):\n",
    "\n",
    "    # Select next generation\n",
    "    offspring = toolbox.select(population, len(population))\n",
    "    offspring = list(map(toolbox.clone, offspring))\n",
    "\n",
    "    # do cross over\n",
    "    for child1, child2 in zip(offspring[::2], offspring[1::2]):\n",
    "\n",
    "        if random.random() < PROBABILITY_CROSSING:\n",
    "            toolbox.mate(child1, child2)\n",
    "\n",
    "            del child1.fitness.values\n",
    "            del child2.fitness.values\n",
    "            \n",
    "    # do mutation\n",
    "    for mutant in offspring:\n",
    "        if random.random() < PROBABILITY_MUTATION:\n",
    "            toolbox.mutate(mutant)\n",
    "            del mutant.fitness.values\n",
    "    \n",
    "    # recalculate fitness values of mates and mutants\n",
    "    invalid_individuals = [ind for ind in offspring if not ind.fitness.valid]\n",
    "    fitnesses = map(toolbox.evaluate, invalid_individuals)\n",
    "    for ind, fit in zip(invalid_individuals, fitnesses):\n",
    "        ind.fitness.values = fit\n",
    "    \n",
    "    population[:] = offspring\n",
    "    \n",
    "    # update list of fitness value\n",
    "    fitness_values = [ind.fitness.values[0] for ind in population]\n",
    "    \n",
    "    #E = sum(fitness_values) / len(fitness_values)\n",
    "    E = min(fitness_values)\n",
    "    print(E_old, E)\n",
    "    \n",
    "    if np.abs(E - E_old) < CONVERGENCE_THRESHOLD:\n",
    "        break\n",
    "    else:\n",
    "        E_old = E\n",
    "        \n",
    "    \n",
    "    "
   ]
  },
  {
   "cell_type": "code",
   "execution_count": 10,
   "metadata": {},
   "outputs": [
    {
     "name": "stdout",
     "output_type": "stream",
     "text": [
      "(-74.91427817847651,)\n"
     ]
    }
   ],
   "source": [
    "best_ind = tools.selBest(population, 1)[0]\n",
    "print(best_ind.fitness.values)"
   ]
  },
  {
   "cell_type": "markdown",
   "metadata": {},
   "source": [
    "# Checking the Result "
   ]
  },
  {
   "cell_type": "code",
   "execution_count": 11,
   "metadata": {},
   "outputs": [
    {
     "data": {
      "text/plain": [
       "<matplotlib.figure.Figure at 0x7f314641b780>"
      ]
     },
     "metadata": {},
     "output_type": "display_data"
    }
   ],
   "source": [
    "import matplotlib.pylab as plt\n",
    "\n",
    "x = [best_ind[0], best_ind[3], best_ind[6]]\n",
    "y = [best_ind[1], best_ind[4], best_ind[7]]\n",
    "z = [best_ind[2], best_ind[5], best_ind[8]]\n",
    "\n",
    "lower, upper = -0.5, 1.5\n",
    "\n",
    "plt.subplot(2, 2, 1)\n",
    "plt.scatter(x[0], y[0], label=\"C\")\n",
    "plt.scatter(x[1:], y[1:], label=\"H\")\n",
    "plt.xlabel(\"x\")\n",
    "plt.ylabel(\"y\")\n",
    "plt.xlim(lower, upper)\n",
    "plt.ylim(lower, upper)\n",
    "\n",
    "plt.subplot(2, 2, 2)\n",
    "plt.scatter(x[0], z[0], label=\"C\")\n",
    "plt.scatter(x[1:], z[1:], label=\"H\")\n",
    "plt.xlabel(\"x\")\n",
    "plt.ylabel(\"z\")\n",
    "plt.xlim(lower, upper)\n",
    "plt.ylim(lower, upper)\n",
    "\n",
    "plt.subplot(2, 2, 3)\n",
    "plt.scatter(y[0], z[0], label=\"C\")\n",
    "plt.scatter(y[1:], z[1:], label=\"H\")\n",
    "plt.xlabel(\"y\")\n",
    "plt.ylabel(\"z\")\n",
    "plt.xlim(lower, upper)\n",
    "plt.ylim(lower, upper)\n",
    "\n",
    "plt.show()"
   ]
  },
  {
   "cell_type": "code",
   "execution_count": 12,
   "metadata": {},
   "outputs": [
    {
     "name": "stdout",
     "output_type": "stream",
     "text": [
      "Distance C-H1: 0.9610121447864596,\n",
      "Distance C-H2: 1.2172840817290067,\n",
      "Angle Distance C-H1: 82.97935170899447\n"
     ]
    }
   ],
   "source": [
    "C  = np.array([x[0], y[0], z[0]])\n",
    "H1 = np.array([x[1], y[1], z[1]])\n",
    "H2 = np.array([x[2], y[2], z[2]])\n",
    "\n",
    "\n",
    "CH1 = C - H1\n",
    "CH2 = C - H2\n",
    "distance_C_H1 = np.linalg.norm(CH1)\n",
    "distance_C_H2 = np.linalg.norm(CH2)\n",
    "\n",
    "angle = np.arccos(np.dot(CH1, CH2) / (distance_C_H1 * distance_C_H2))\n",
    "\n",
    "print(\"Distance C-H1: {0},\\nDistance C-H2: {1},\\nAngle Distance C-H1: {2}\".format(\n",
    "    distance_C_H1,\n",
    "    distance_C_H2,\n",
    "    angle / (2 * np.pi) * 360\n",
    "))"
   ]
  },
  {
   "cell_type": "code",
   "execution_count": null,
   "metadata": {},
   "outputs": [],
   "source": []
  }
 ],
 "metadata": {
  "kernelspec": {
   "display_name": "Python 3",
   "language": "python",
   "name": "python3"
  },
  "language_info": {
   "codemirror_mode": {
    "name": "ipython",
    "version": 3
   },
   "file_extension": ".py",
   "mimetype": "text/x-python",
   "name": "python",
   "nbconvert_exporter": "python",
   "pygments_lexer": "ipython3",
   "version": "3.6.4"
  }
 },
 "nbformat": 4,
 "nbformat_minor": 2
}
