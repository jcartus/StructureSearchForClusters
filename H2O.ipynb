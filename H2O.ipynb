{
 "cells": [
  {
   "cell_type": "code",
   "execution_count": 1,
   "metadata": {},
   "outputs": [],
   "source": [
    "import random\n",
    "import numpy as np\n",
    "\n",
    "from deap import base\n",
    "from deap import creator\n",
    "from deap import tools\n",
    "\n",
    "import matplotlib.pyplot as plt\n",
    "plt.style.use(\"seaborn\")\n",
    "\n",
    "%matplotlib inline"
   ]
  },
  {
   "cell_type": "code",
   "execution_count": 2,
   "metadata": {},
   "outputs": [],
   "source": [
    "creator.create(\"FitnessMin\", base.Fitness, weights=(-1.0,))\n",
    "creator.create(\"Individual\", list, fitness=creator.FitnessMin)"
   ]
  },
  {
   "cell_type": "markdown",
   "metadata": {},
   "source": [
    "# Setup the System\n",
    "- genome is now 3 params: distance OH1, Distance Oh2, angle H1OH2.\n",
    "- Molecule will always be in xy plane\n"
   ]
  },
  {
   "cell_type": "code",
   "execution_count": 3,
   "metadata": {},
   "outputs": [],
   "source": [
    "toolbox = base.Toolbox()\n",
    "\n",
    "def init_individual():\n",
    "    return [random.gauss(1, 0.4), random.gauss(1, 0.4), random.gauss(2, 0.4)]\n",
    "\n",
    "\n",
    "toolbox.register(\"init_individual\", tools.initIterate, \n",
    "                 creator.Individual, init_individual)\n",
    "\n",
    "toolbox.register(\"init_population\", tools.initRepeat, \n",
    "                 list, toolbox.init_individual)"
   ]
  },
  {
   "cell_type": "code",
   "execution_count": 4,
   "metadata": {},
   "outputs": [
    {
     "name": "stderr",
     "output_type": "stream",
     "text": [
      "/home/jo/anaconda3/lib/python3.6/site-packages/h5py/__init__.py:36: FutureWarning: Conversion of the second argument of issubdtype from `float` to `np.floating` is deprecated. In future, it will be treated as `np.float64 == np.dtype(float).type`.\n",
      "  from ._conv import register_converters as _register_converters\n"
     ]
    }
   ],
   "source": [
    "from pyscf.gto import Mole\n",
    "from pyscf.scf import RHF\n",
    "\n",
    "def build_molecule_from_genome(genome):\n",
    "    \n",
    "    atoms = [\n",
    "        (\"O\", 0, 0, 0),\n",
    "        (\"H\", genome[0], 0, 0),\n",
    "        (\"H\", genome[1] * np.cos(genome[2]), genome[1] * np.sin(genome[2]), 0)\n",
    "    ]\n",
    "    \n",
    "    mol = Mole()\n",
    "    mol.atom = atoms\n",
    "    #mol.basis = \"6-31++g**\"\n",
    "    mol.basis = \"sto-3g\"\n",
    "    mol.build()\n",
    "    return mol\n",
    "    \n",
    "def evaluateFitness(individual):\n",
    "    \n",
    "    mol = build_molecule_from_genome(individual)\n",
    "    \n",
    "    mf = RHF(mol)\n",
    "    mf.verbose = 0\n",
    "    E = mf.scf()\n",
    "    \n",
    "    # this shit has to be a tuple!!\n",
    "    return E,\n",
    "\n",
    "toolbox.register(\"evaluate\", evaluateFitness)"
   ]
  },
  {
   "cell_type": "code",
   "execution_count": 5,
   "metadata": {},
   "outputs": [],
   "source": [
    "toolbox.register(\"mate\", tools.cxTwoPoint)\n",
    "toolbox.register(\"mutate\", tools.mutGaussian, mu=0, sigma=1, indpb=0.05) # flip gene with 0.05 % probability\n",
    "toolbox.register(\"select\", tools.selTournament, tournsize=3)"
   ]
  },
  {
   "cell_type": "markdown",
   "metadata": {},
   "source": [
    "# Do the Optimazation "
   ]
  },
  {
   "cell_type": "code",
   "execution_count": 6,
   "metadata": {},
   "outputs": [],
   "source": [
    "PROBABILITY_CROSSING = 0.5\n",
    "PROBABILITY_MUTATION = 0.2\n",
    "\n",
    "MAX_ITERATIONS = 10\n",
    "\n",
    "CONVERGENCE_THRESHOLD = 1e-7\n",
    "\n",
    "E_old = 1e10"
   ]
  },
  {
   "cell_type": "code",
   "execution_count": 7,
   "metadata": {},
   "outputs": [],
   "source": [
    "SIZE_POPULATION = 50\n",
    "\n",
    "population = toolbox.init_population(n=SIZE_POPULATION)"
   ]
  },
  {
   "cell_type": "code",
   "execution_count": 21,
   "metadata": {},
   "outputs": [],
   "source": [
    "fitnesses = list(map(toolbox.evaluate, population))\n",
    "\n",
    "for ind, fit in zip(population, fitnesses):\n",
    "    ind.fitness.values = fit"
   ]
  },
  {
   "cell_type": "code",
   "execution_count": 37,
   "metadata": {},
   "outputs": [],
   "source": [
    "distribution_lower, distribution_upper = min(fitnesses)[0], max(fitnesses)[0]\n",
    "number_of_bins = 60\n",
    "\n",
    "fitness_distribution, bins = np.histogram(\n",
    "    np.array(fitnesses).reshape(SIZE_POPULATION), \n",
    "    bins=number_of_bins, \n",
    "    range=(distribution_lower, distribution_upper)\n",
    ")\n",
    "\n",
    "def calculate_fitness_distribution(fitnesses):\n",
    "    fitness_distribution = np.histogram(\n",
    "        np.array(fitnesses).reshape(SIZE_POPULATION), \n",
    "        bins=number_of_bins, \n",
    "        range=(distribution_lower, distribution_upper)\n",
    "    )[0]\n",
    "    return fitness_distribution"
   ]
  },
  {
   "cell_type": "code",
   "execution_count": 10,
   "metadata": {},
   "outputs": [
    {
     "name": "stdout",
     "output_type": "stream",
     "text": [
      "Pre:\n",
      "[1.000264014221176, 1.0291761795308247, 1.4899554183105037] (-74.95474304633743,)\n"
     ]
    }
   ],
   "source": [
    "best_ind = tools.selBest(population, 1)[0]\n",
    "print(\"Pre:\")\n",
    "print(best_ind, best_ind.fitness.values)"
   ]
  },
  {
   "cell_type": "code",
   "execution_count": 11,
   "metadata": {},
   "outputs": [
    {
     "name": "stdout",
     "output_type": "stream",
     "text": [
      "Generation: 1\n",
      "-74.8318568519291 10000000074.831858\n",
      "Generation: 2\n",
      "-74.9084005789098 0.07654372698070233\n",
      "Generation: 3\n",
      "-74.94555079104626 0.037150212136452865\n",
      "Generation: 4\n",
      "-74.95612860023255 0.010577809186287368\n",
      "Generation: 5\n",
      "-74.94887166868575 0.007256931546791634\n",
      "Generation: 6\n",
      "-74.92290670232744 0.025964966358316133\n",
      "Generation: 7\n",
      "-74.96457184119573 0.04166513886829648\n",
      "Generation: 8\n",
      "-74.95943334014144 0.0051385010542901455\n",
      "Generation: 9\n",
      "-74.9643363984124 0.00490305827095483\n",
      "Generation: 10\n",
      "-74.96511417201559 0.0007777736031897575\n"
     ]
    }
   ],
   "source": [
    "# create a list of fitness values\n",
    "fitness_values = [ind.fitness.values[0] for ind in population]\n",
    "\n",
    "# Begin the evolution\n",
    "for i in range(MAX_ITERATIONS):\n",
    "\n",
    "    # Select next generation\n",
    "    offspring = toolbox.select(population, len(population))\n",
    "    offspring = list(map(toolbox.clone, offspring))\n",
    "\n",
    "    # do cross over\n",
    "    for child1, child2 in zip(offspring[::2], offspring[1::2]):\n",
    "\n",
    "        if random.random() < PROBABILITY_CROSSING:\n",
    "            toolbox.mate(child1, child2)\n",
    "\n",
    "            del child1.fitness.values\n",
    "            del child2.fitness.values\n",
    "            \n",
    "    # do mutation\n",
    "    for mutant in offspring:\n",
    "        if random.random() < PROBABILITY_MUTATION:\n",
    "            toolbox.mutate(mutant)\n",
    "            del mutant.fitness.values\n",
    "    \n",
    "    # recalculate fitness values of mates and mutants\n",
    "    invalid_individuals = [ind for ind in offspring if not ind.fitness.valid]\n",
    "    fitnesses = map(toolbox.evaluate, invalid_individuals)\n",
    "    for ind, fit in zip(invalid_individuals, fitnesses):\n",
    "        ind.fitness.values = fit\n",
    "    \n",
    "    population[:] = offspring\n",
    "    \n",
    "    # update list of fitness value\n",
    "    fitness_values = [ind.fitness.values[0] for ind in population]\n",
    "    \n",
    "    # updates fitness distributions\n",
    "    fitness_distribution += calculate_fitness_distribution(fitness_values) \n",
    "    \n",
    "    #E = sum(fitness_values) / len(fitness_values)\n",
    "    E = sum(fitness_values) / float(SIZE_POPULATION)\n",
    "    print(\"Generation: \" + str(i+1))\n",
    "    print(E, np.abs(E_old-E))\n",
    "    \n",
    "    \n",
    "    if np.abs(E - E_old) < CONVERGENCE_THRESHOLD:\n",
    "        print(\"\\n\\nCONVERGED!\\n\")\n",
    "        break\n",
    "\n",
    "    else:\n",
    "        E_old = E\n",
    "        \n",
    "    "
   ]
  },
  {
   "cell_type": "markdown",
   "metadata": {},
   "source": [
    "# Checking the Result "
   ]
  },
  {
   "cell_type": "code",
   "execution_count": 42,
   "metadata": {},
   "outputs": [
    {
     "data": {
      "text/plain": [
       "(array([-74.96511417, -74.96511417, -74.96511417, -74.96511417,\n",
       "        -74.96511417, -74.96511417, -74.96511417, -74.96511417,\n",
       "        -74.96511417, -74.96511417, -74.96511417, -74.96511417,\n",
       "        -74.96511417, -74.96511417, -74.96511417, -74.96511417,\n",
       "        -74.96511417, -74.96511417, -74.96511417, -74.96511417,\n",
       "        -74.96511417, -74.96511417, -74.96511417, -74.96511417,\n",
       "        -74.96511417, -74.96511417, -74.96511417, -74.96511417,\n",
       "        -74.96511417, -74.96511417, -74.96511417, -74.96511417,\n",
       "        -74.96511417, -74.96511417, -74.96511417, -74.96511417,\n",
       "        -74.96511417, -74.96511417, -74.96511417, -74.96511417,\n",
       "        -74.96511417, -74.96511417, -74.96511417, -74.96511417,\n",
       "        -74.96511417, -74.96511417, -74.96511417, -74.96511417,\n",
       "        -74.96511417, -74.96511417, -74.96511417, -74.96511417,\n",
       "        -74.96511417, -74.96511417, -74.96511417, -74.96511417,\n",
       "        -74.96511417, -74.96511417, -74.96511417, -74.96511417]),\n",
       " array([ 0,  1,  0,  0,  0,  0,  0,  0,  0,  0,  0,  0,  0,  0,  0,  0,  0,\n",
       "         0,  0,  0,  0, 28,  0,  0,  0,  0,  0,  0,  0,  0,  0,  4,  0,  0,\n",
       "         0,  0,  0,  0,  0,  0,  0, 15,  0,  0,  0,  0,  0,  0,  0,  0,  0,\n",
       "         1,  0,  0,  0,  0,  0,  0,  0,  1]))"
      ]
     },
     "execution_count": 42,
     "metadata": {},
     "output_type": "execute_result"
    }
   ],
   "source": [
    "bins[:-1], fitness_distribution"
   ]
  },
  {
   "cell_type": "code",
   "execution_count": 43,
   "metadata": {},
   "outputs": [
    {
     "data": {
      "image/png": "[encoded data removed]",
      "text/plain": [
       "<matplotlib.figure.Figure at 0x7f5d27f6e4e0>"
      ]
     },
     "metadata": {},
     "output_type": "display_data"
    }
   ],
   "source": [
    "#plt.hist(fitness_distribution, bins=number_of_bins, range=(distribution_lower, distribution_upper))\n",
    "plt.bar(bins[:-1], fitness_distribution)git\n",
    "plt.show()"
   ]
  },
  {
   "cell_type": "code",
   "execution_count": 14,
   "metadata": {},
   "outputs": [
    {
     "name": "stdout",
     "output_type": "stream",
     "text": [
      "Distances: \n",
      " - 0.9931241485898789\n",
      " - 0.9662329644069355\n",
      "Angle: 101.86124268974952\n",
      "Energy: (-74.96511417201569,)\n"
     ]
    }
   ],
   "source": [
    "best_ind = tools.selBest(population, 1)[0]\n",
    "print(\"Distances: \\n - {0}\\n - {1}\".format(best_ind[0], best_ind[1]))\n",
    "print(\"Angle: {0}\".format(best_ind[2] * 360 / (2 * np.pi) % 360))\n",
    "print(\"Energy: {0}\".format(best_ind.fitness.values))"
   ]
  },
  {
   "cell_type": "code",
   "execution_count": 15,
   "metadata": {},
   "outputs": [
    {
     "data": {
      "text/plain": [
       "[('O', 0, 0, 0),\n",
       " ('H', 0.9931241485898789, 0, 0),\n",
       " ('H', -0.1986016811378515, 0.9456021963573442, 0)]"
      ]
     },
     "execution_count": 15,
     "metadata": {},
     "output_type": "execute_result"
    }
   ],
   "source": [
    "mol = build_molecule_from_genome(best_ind)\n",
    "mol.atom"
   ]
  },
  {
   "cell_type": "code",
   "execution_count": 16,
   "metadata": {},
   "outputs": [
    {
     "data": {
      "image/png": "[encoded data removed]",
      "text/plain": [
       "<matplotlib.figure.Figure at 0x7f5d2c177da0>"
      ]
     },
     "metadata": {},
     "output_type": "display_data"
    }
   ],
   "source": [
    "import matplotlib.pylab as plt\n",
    "\n",
    "x = [t[1] for t in mol.atom]\n",
    "y = [t[2] for t in mol.atom]\n",
    "z = [t[3] for t in mol.atom]\n",
    "\n",
    "lower, upper = -1.5, 1.5\n",
    "\n",
    "plt.subplot(2, 2, 1)\n",
    "plt.scatter(x[0], y[0], label=\"C\")\n",
    "plt.scatter(x[1:], y[1:], marker=\"x\", label=\"H\")\n",
    "plt.xlabel(\"x\")\n",
    "plt.ylabel(\"y\")\n",
    "plt.xlim(lower, upper)\n",
    "plt.ylim(lower, upper)\n",
    "plt.axis(\"equal\")\n",
    "\n",
    "plt.subplot(2, 2, 2)\n",
    "plt.scatter(x[0], z[0], label=\"C\")\n",
    "plt.scatter(x[1:], z[1:], marker=\"x\", label=\"H\")\n",
    "plt.xlabel(\"x\")\n",
    "plt.ylabel(\"z\")\n",
    "plt.xlim(lower, upper)\n",
    "plt.ylim(lower, upper)\n",
    "plt.axis(\"equal\")\n",
    "\n",
    "plt.subplot(2, 2, 3)\n",
    "plt.scatter(y[0], z[0], label=\"C\")\n",
    "plt.scatter(y[1:], z[1:], marker=\"x\", label=\"H\")\n",
    "plt.xlabel(\"y\")\n",
    "plt.ylabel(\"z\")\n",
    "plt.xlim(lower, upper)\n",
    "plt.ylim(lower, upper)\n",
    "plt.axis(\"equal\")\n",
    "\n",
    "plt.show()"
   ]
  },
  {
   "cell_type": "code",
   "execution_count": null,
   "metadata": {},
   "outputs": [],
   "source": []
  }
 ],
 "metadata": {
  "kernelspec": {
   "display_name": "Python 3",
   "language": "python",
   "name": "python3"
  },
  "language_info": {
   "codemirror_mode": {
    "name": "ipython",
    "version": 3
   },
   "file_extension": ".py",
   "mimetype": "text/x-python",
   "name": "python",
   "nbconvert_exporter": "python",
   "pygments_lexer": "ipython3",
   "version": "3.6.4"
  }
 },
 "nbformat": 4,
 "nbformat_minor": 2
}
